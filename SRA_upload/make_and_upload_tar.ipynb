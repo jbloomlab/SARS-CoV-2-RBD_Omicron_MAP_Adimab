{
 "cells": [
  {
   "cell_type": "markdown",
   "metadata": {},
   "source": [
    "# Create TAR file of FASTQs and upload to SRA\n",
    "This Python Jupyter notebook creates a `*.tar` file of the FASTQs and uploads them to the SRA.\n",
    "\n",
    "First, import Python modules:"
   ]
  },
  {
   "cell_type": "code",
   "execution_count": 1,
   "metadata": {
    "execution": {
     "iopub.execute_input": "2023-04-26T18:34:23.560587Z",
     "iopub.status.busy": "2023-04-26T18:34:23.560053Z",
     "iopub.status.idle": "2023-04-26T18:34:30.490826Z",
     "shell.execute_reply": "2023-04-26T18:34:30.490136Z"
    }
   },
   "outputs": [],
   "source": [
    "import datetime\n",
    "import ftplib\n",
    "import os\n",
    "import tarfile\n",
    "\n",
    "import pandas as pd\n",
    "\n",
    "import yaml"
   ]
  },
  {
   "cell_type": "markdown",
   "metadata": {},
   "source": [
    "Read in the FASTQ files to upload:"
   ]
  },
  {
   "cell_type": "code",
   "execution_count": 2,
   "metadata": {
    "execution": {
     "iopub.execute_input": "2023-04-26T18:34:30.496283Z",
     "iopub.status.busy": "2023-04-26T18:34:30.494975Z",
     "iopub.status.idle": "2023-04-26T18:34:30.508277Z",
     "shell.execute_reply": "2023-04-26T18:34:30.507693Z"
    }
   },
   "outputs": [],
   "source": [
    "with open('upload_config.yaml') as f:\n",
    "    config = yaml.safe_load(f)\n",
    "    \n",
    "fastqs = pd.read_csv('FASTQs_to_upload.csv')"
   ]
  },
  {
   "cell_type": "markdown",
   "metadata": {},
   "source": [
    "Now we need to make a `*.tar` file with all of the files.\n",
    "Note that this step **will take a long time to run**."
   ]
  },
  {
   "cell_type": "code",
   "execution_count": 3,
   "metadata": {
    "execution": {
     "iopub.execute_input": "2023-04-26T18:34:30.513253Z",
     "iopub.status.busy": "2023-04-26T18:34:30.512075Z",
     "iopub.status.idle": "2023-04-26T18:34:57.940012Z",
     "shell.execute_reply": "2023-04-26T18:34:57.938576Z"
    }
   },
   "outputs": [
    {
     "name": "stdout",
     "output_type": "stream",
     "text": [
      "Adding file 1 of 20 to SRA_submission.tar\n",
      "Adding file 2 of 20 to SRA_submission.tar\n",
      "Adding file 3 of 20 to SRA_submission.tar\n",
      "Adding file 4 of 20 to SRA_submission.tar\n",
      "Adding file 5 of 20 to SRA_submission.tar\n",
      "Adding file 6 of 20 to SRA_submission.tar\n",
      "Adding file 7 of 20 to SRA_submission.tar\n",
      "Adding file 8 of 20 to SRA_submission.tar\n",
      "Adding file 9 of 20 to SRA_submission.tar\n",
      "Adding file 10 of 20 to SRA_submission.tar\n",
      "Adding file 11 of 20 to SRA_submission.tar\n",
      "Adding file 12 of 20 to SRA_submission.tar\n",
      "Adding file 13 of 20 to SRA_submission.tar\n",
      "Adding file 14 of 20 to SRA_submission.tar\n",
      "Adding file 15 of 20 to SRA_submission.tar\n",
      "Adding file 16 of 20 to SRA_submission.tar\n",
      "Adding file 17 of 20 to SRA_submission.tar\n",
      "Adding file 18 of 20 to SRA_submission.tar\n",
      "Adding file 19 of 20 to SRA_submission.tar\n",
      "Adding file 20 of 20 to SRA_submission.tar\n",
      "Added all files to SRA_submission.tar\n"
     ]
    }
   ],
   "source": [
    "tar_filename = 'SRA_submission.tar'\n",
    "\n",
    "try:\n",
    "    with tarfile.open(tar_filename, mode='w') as f:\n",
    "        for i, tup in enumerate(fastqs.itertuples()):\n",
    "            print(f\"Adding file {i + 1} of {len(fastqs)} to {tar_filename}\")\n",
    "            f.add(tup.filename_fullpath, arcname=tup.filename)\n",
    "        print(f\"Added all files to {tar_filename}\")\n",
    "except:\n",
    "    if os.path.isfile(tar_filename):\n",
    "        os.remove(tar_filename)\n",
    "    raise"
   ]
  },
  {
   "cell_type": "markdown",
   "metadata": {},
   "source": [
    "See the size of the `*.tar` file to upload and make sure it has the expected files:"
   ]
  },
  {
   "cell_type": "code",
   "execution_count": 4,
   "metadata": {
    "execution": {
     "iopub.execute_input": "2023-04-26T18:34:57.947288Z",
     "iopub.status.busy": "2023-04-26T18:34:57.946083Z",
     "iopub.status.idle": "2023-04-26T18:34:57.966807Z",
     "shell.execute_reply": "2023-04-26T18:34:57.966001Z"
    }
   },
   "outputs": [
    {
     "name": "stdout",
     "output_type": "stream",
     "text": [
      "The size of SRA_submission.tar is 2.9 GB\n",
      "SRA_submission.tar contains all 20 expected files.\n"
     ]
    }
   ],
   "source": [
    "print(f\"The size of {tar_filename} is {os.path.getsize(tar_filename) / 1e9:.1f} GB\")\n",
    "\n",
    "with tarfile.open(tar_filename) as f:\n",
    "    files_in_tar = set(f.getnames())\n",
    "if files_in_tar == set(fastqs['filename']):\n",
    "    print(f\"{tar_filename} contains all {len(files_in_tar)} expected files.\")\n",
    "else:\n",
    "    raise ValueError(f\"{tar_filename} does not have all the expected files.\")"
   ]
  },
  {
   "cell_type": "markdown",
   "metadata": {},
   "source": [
    "We now read in the details about doing the FTP upload to the SRA.\n",
    "Note that these are set in separate files already:"
   ]
  },
  {
   "cell_type": "code",
   "execution_count": 5,
   "metadata": {
    "execution": {
     "iopub.execute_input": "2023-04-26T18:34:57.971916Z",
     "iopub.status.busy": "2023-04-26T18:34:57.970803Z",
     "iopub.status.idle": "2023-04-26T18:34:57.977856Z",
     "shell.execute_reply": "2023-04-26T18:34:57.977315Z"
    }
   },
   "outputs": [],
   "source": [
    "# the following are provided by SRA wizard insturctions\n",
    "ftp_address = 'ftp-private.ncbi.nlm.nih.gov'\n",
    "ftp_username = config['ftp_username'].strip()\n",
    "ftp_account_folder = config['ftp_account_folder'].strip()\n",
    "ftp_subfolder = config['ftp_subfolder'].strip()\n",
    "with open('ftp_password.txt') as f:\n",
    "    ftp_password = f.read().strip()"
   ]
  },
  {
   "cell_type": "markdown",
   "metadata": {},
   "source": [
    "Now create FTP connection and upload the TAR file.\n",
    "Note that this takes a while.\n",
    "If you are worried that it will timeout given the size of your file, you can run this notebook via `slurm` so there is no timing out:"
   ]
  },
  {
   "cell_type": "code",
   "execution_count": 6,
   "metadata": {
    "execution": {
     "iopub.execute_input": "2023-04-26T18:34:57.985528Z",
     "iopub.status.busy": "2023-04-26T18:34:57.984324Z",
     "iopub.status.idle": "2023-04-26T18:47:17.627745Z",
     "shell.execute_reply": "2023-04-26T18:47:17.626511Z"
    }
   },
   "outputs": [
    {
     "name": "stdout",
     "output_type": "stream",
     "text": [
      "Starting upload at 2023-04-26 11:34:57.988455\n",
      "Finished upload at 2023-04-26 11:47:17.621489\n"
     ]
    }
   ],
   "source": [
    "print(f\"Starting upload at {datetime.datetime.now()}\")\n",
    "\n",
    "with ftplib.FTP(ftp_address) as ftp:\n",
    "    ftp.login(user=ftp_username,\n",
    "              passwd=ftp_password,\n",
    "              )\n",
    "    ftp.cwd(ftp_account_folder)\n",
    "    ftp.mkd(ftp_subfolder)\n",
    "    ftp.cwd(ftp_subfolder)\n",
    "    with open(tar_filename, 'rb') as f:\n",
    "        ftp.storbinary(f\"STOR {tar_filename}\", f)\n",
    "        \n",
    "print(f\"Finished upload at {datetime.datetime.now()}\")"
   ]
  },
  {
   "cell_type": "code",
   "execution_count": null,
   "metadata": {},
   "outputs": [],
   "source": []
  }
 ],
 "metadata": {
  "language_info": {
   "codemirror_mode": {
    "name": "ipython",
    "version": 3
   },
   "file_extension": ".py",
   "mimetype": "text/x-python",
   "name": "python",
   "nbconvert_exporter": "python",
   "pygments_lexer": "ipython3",
   "version": "3.8.13"
  }
 },
 "nbformat": 4,
 "nbformat_minor": 4
}
