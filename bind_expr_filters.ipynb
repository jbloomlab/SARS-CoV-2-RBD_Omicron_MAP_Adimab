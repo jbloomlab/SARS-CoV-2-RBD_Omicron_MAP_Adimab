{
 "cells": [
  {
   "cell_type": "markdown",
   "metadata": {},
   "source": [
    "# Set Omicron BA.1 RBD DMS ACE2 binding and expression scores for thresholds\n",
    "We want to make sure that the filters chosen for the ACE2 binding and RBD expression scores are reasonable such that spurious antibody-escpae mutations that merely fall into the antibody-escape gate due to their poor folding or expression are removed. \n",
    "\n",
    "But, we also want to make sure we aren't throwing out many mutations that are found in nature at reasonable numbers. "
   ]
  },
  {
   "cell_type": "code",
   "execution_count": 13,
   "metadata": {
    "execution": {
     "iopub.execute_input": "2022-05-09T04:30:00.267211Z",
     "iopub.status.busy": "2022-05-09T04:30:00.266720Z",
     "iopub.status.idle": "2022-05-09T04:30:02.633397Z",
     "shell.execute_reply": "2022-05-09T04:30:02.634102Z"
    }
   },
   "outputs": [],
   "source": [
    "import os\n",
    "\n",
    "from IPython.display import display, HTML\n",
    "\n",
    "import math\n",
    "import numpy as np\n",
    "import pandas as pd\n",
    "from scipy import stats\n",
    "\n",
    "from plotnine import *\n",
    "\n",
    "from dms_variants.constants import CBPALETTE\n",
    "\n",
    "import yaml"
   ]
  },
  {
   "cell_type": "markdown",
   "metadata": {},
   "source": [
    "Read config file"
   ]
  },
  {
   "cell_type": "code",
   "execution_count": 35,
   "metadata": {
    "execution": {
     "iopub.execute_input": "2022-05-09T04:30:02.637294Z",
     "iopub.status.busy": "2022-05-09T04:30:02.636444Z",
     "iopub.status.idle": "2022-05-09T04:30:02.651879Z",
     "shell.execute_reply": "2022-05-09T04:30:02.652392Z"
    }
   },
   "outputs": [],
   "source": [
    "with open('config.yaml') as f:\n",
    "    config = yaml.safe_load(f)"
   ]
  },
  {
   "cell_type": "markdown",
   "metadata": {},
   "source": [
    "Define input and output directories"
   ]
  },
  {
   "cell_type": "code",
   "execution_count": 36,
   "metadata": {
    "execution": {
     "iopub.execute_input": "2022-05-09T04:30:02.654874Z",
     "iopub.status.busy": "2022-05-09T04:30:02.654145Z",
     "iopub.status.idle": "2022-05-09T04:30:02.660166Z",
     "shell.execute_reply": "2022-05-09T04:30:02.660661Z"
    }
   },
   "outputs": [],
   "source": [
    "datadir = 'data'\n",
    "resultsdir = config['bind_expr_filters_dir']\n",
    "\n",
    "os.makedirs(resultsdir, exist_ok=True)"
   ]
  },
  {
   "cell_type": "markdown",
   "metadata": {},
   "source": [
    "Read in the new filters for DMS ACE2 binding and expression scores. "
   ]
  },
  {
   "cell_type": "code",
   "execution_count": 37,
   "metadata": {
    "execution": {
     "iopub.execute_input": "2022-05-09T04:30:02.663122Z",
     "iopub.status.busy": "2022-05-09T04:30:02.662341Z",
     "iopub.status.idle": "2022-05-09T04:30:02.678859Z",
     "shell.execute_reply": "2022-05-09T04:30:02.679225Z"
    }
   },
   "outputs": [
    {
     "data": {
      "text/html": [
       "<table border=\"1\" class=\"dataframe\">\n",
       "  <thead>\n",
       "    <tr style=\"text-align: right;\">\n",
       "      <th>metric</th>\n",
       "      <th>score</th>\n",
       "    </tr>\n",
       "  </thead>\n",
       "  <tbody>\n",
       "    <tr>\n",
       "      <td>delta_bind</td>\n",
       "      <td>-2.5</td>\n",
       "    </tr>\n",
       "    <tr>\n",
       "      <td>delta_expr</td>\n",
       "      <td>-1.0</td>\n",
       "    </tr>\n",
       "  </tbody>\n",
       "</table>"
      ],
      "text/plain": [
       "<IPython.core.display.HTML object>"
      ]
     },
     "metadata": {},
     "output_type": "display_data"
    }
   ],
   "source": [
    "og_thresholds={'delta_bind':-2.35, 'delta_expr':-1.0}\n",
    "new_thresholds={'delta_bind':config['escape_score_min_bind_mut'], 'delta_expr':config['escape_score_min_expr_mut']}\n",
    "\n",
    "og_thresholds_df=pd.DataFrame.from_dict({'metric': ['delta_bind', 'delta_expr'], 'score': [-2.35,-1.0]})\n",
    "new_filter_df=pd.DataFrame({'metric': ['delta_bind', 'delta_expr'], 'score':[config['escape_score_min_bind_mut'],config['escape_score_min_expr_mut']]})\n",
    "display(HTML(new_filter_df.to_html(index=False)))"
   ]
  },
  {
   "cell_type": "code",
   "execution_count": 38,
   "metadata": {
    "execution": {
     "iopub.execute_input": "2022-05-09T04:30:02.681877Z",
     "iopub.status.busy": "2022-05-09T04:30:02.681026Z",
     "iopub.status.idle": "2022-05-09T04:30:02.684590Z",
     "shell.execute_reply": "2022-05-09T04:30:02.685135Z"
    }
   },
   "outputs": [],
   "source": [
    "gisaid_counts_file = config['gisaid_mutation_counts']\n",
    "dms_scores_file = config['mut_bind_expr']\n",
    "og_dms_file = config['early2020_mut_bind_expr']"
   ]
  },
  {
   "cell_type": "markdown",
   "metadata": {},
   "source": [
    "## Examine filters and GISAID counts"
   ]
  },
  {
   "cell_type": "code",
   "execution_count": 39,
   "metadata": {
    "execution": {
     "iopub.execute_input": "2022-05-09T04:30:02.687722Z",
     "iopub.status.busy": "2022-05-09T04:30:02.686922Z",
     "iopub.status.idle": "2022-05-09T04:30:02.747729Z",
     "shell.execute_reply": "2022-05-09T04:30:02.748256Z"
    }
   },
   "outputs": [
    {
     "data": {
      "text/html": [
       "<table border=\"1\" class=\"dataframe\">\n",
       "  <thead>\n",
       "    <tr style=\"text-align: right;\">\n",
       "      <th>target</th>\n",
       "      <th>wildtype</th>\n",
       "      <th>mutation</th>\n",
       "      <th>site</th>\n",
       "      <th>mutant</th>\n",
       "      <th>delta_bind</th>\n",
       "      <th>delta_expr</th>\n",
       "    </tr>\n",
       "  </thead>\n",
       "  <tbody>\n",
       "    <tr>\n",
       "      <td>Omicron_BA1</td>\n",
       "      <td>N</td>\n",
       "      <td>N331A</td>\n",
       "      <td>331</td>\n",
       "      <td>A</td>\n",
       "      <td>-0.24400</td>\n",
       "      <td>-0.83011</td>\n",
       "    </tr>\n",
       "    <tr>\n",
       "      <td>Omicron_BA1</td>\n",
       "      <td>N</td>\n",
       "      <td>N331C</td>\n",
       "      <td>331</td>\n",
       "      <td>C</td>\n",
       "      <td>-0.68319</td>\n",
       "      <td>-1.33642</td>\n",
       "    </tr>\n",
       "    <tr>\n",
       "      <td>Omicron_BA1</td>\n",
       "      <td>N</td>\n",
       "      <td>N331D</td>\n",
       "      <td>331</td>\n",
       "      <td>D</td>\n",
       "      <td>-0.22267</td>\n",
       "      <td>-0.54616</td>\n",
       "    </tr>\n",
       "    <tr>\n",
       "      <td>Omicron_BA1</td>\n",
       "      <td>N</td>\n",
       "      <td>N331E</td>\n",
       "      <td>331</td>\n",
       "      <td>E</td>\n",
       "      <td>-0.21514</td>\n",
       "      <td>-0.49162</td>\n",
       "    </tr>\n",
       "    <tr>\n",
       "      <td>Omicron_BA1</td>\n",
       "      <td>N</td>\n",
       "      <td>N331F</td>\n",
       "      <td>331</td>\n",
       "      <td>F</td>\n",
       "      <td>-0.40294</td>\n",
       "      <td>-1.18490</td>\n",
       "    </tr>\n",
       "  </tbody>\n",
       "</table>"
      ],
      "text/plain": [
       "<IPython.core.display.HTML object>"
      ]
     },
     "metadata": {},
     "output_type": "display_data"
    }
   ],
   "source": [
    "dms_scores = (pd.read_csv(dms_scores_file).rename(columns={'position': 'site'}).query(\"target == 'Omicron_BA1'\")\n",
    "             [['target','wildtype', 'mutation', 'site', 'mutant', 'delta_bind', 'delta_expr']]\n",
    "             )\n",
    "\n",
    "display(HTML(dms_scores.head().to_html(index=False)))"
   ]
  },
  {
   "cell_type": "code",
   "execution_count": 40,
   "metadata": {
    "execution": {
     "iopub.execute_input": "2022-05-09T04:30:02.750819Z",
     "iopub.status.busy": "2022-05-09T04:30:02.750077Z",
     "iopub.status.idle": "2022-05-09T04:30:02.775883Z",
     "shell.execute_reply": "2022-05-09T04:30:02.776438Z"
    }
   },
   "outputs": [
    {
     "data": {
      "text/html": [
       "<table border=\"1\" class=\"dataframe\">\n",
       "  <thead>\n",
       "    <tr style=\"text-align: right;\">\n",
       "      <th>wildtype</th>\n",
       "      <th>mutation</th>\n",
       "      <th>site</th>\n",
       "      <th>mutant</th>\n",
       "      <th>count</th>\n",
       "      <th>n_countries</th>\n",
       "      <th>frequency</th>\n",
       "      <th>metric</th>\n",
       "      <th>score</th>\n",
       "    </tr>\n",
       "  </thead>\n",
       "  <tbody>\n",
       "    <tr>\n",
       "      <td>N</td>\n",
       "      <td>N331A</td>\n",
       "      <td>331</td>\n",
       "      <td>A</td>\n",
       "      <td>0.0</td>\n",
       "      <td>0.0</td>\n",
       "      <td>0.000000e+00</td>\n",
       "      <td>delta_bind</td>\n",
       "      <td>-0.24400</td>\n",
       "    </tr>\n",
       "    <tr>\n",
       "      <td>N</td>\n",
       "      <td>N331C</td>\n",
       "      <td>331</td>\n",
       "      <td>C</td>\n",
       "      <td>0.0</td>\n",
       "      <td>0.0</td>\n",
       "      <td>0.000000e+00</td>\n",
       "      <td>delta_bind</td>\n",
       "      <td>-0.68319</td>\n",
       "    </tr>\n",
       "    <tr>\n",
       "      <td>N</td>\n",
       "      <td>N331D</td>\n",
       "      <td>331</td>\n",
       "      <td>D</td>\n",
       "      <td>1.0</td>\n",
       "      <td>1.0</td>\n",
       "      <td>5.178956e-07</td>\n",
       "      <td>delta_bind</td>\n",
       "      <td>-0.22267</td>\n",
       "    </tr>\n",
       "    <tr>\n",
       "      <td>N</td>\n",
       "      <td>N331E</td>\n",
       "      <td>331</td>\n",
       "      <td>E</td>\n",
       "      <td>0.0</td>\n",
       "      <td>0.0</td>\n",
       "      <td>0.000000e+00</td>\n",
       "      <td>delta_bind</td>\n",
       "      <td>-0.21514</td>\n",
       "    </tr>\n",
       "    <tr>\n",
       "      <td>N</td>\n",
       "      <td>N331F</td>\n",
       "      <td>331</td>\n",
       "      <td>F</td>\n",
       "      <td>0.0</td>\n",
       "      <td>0.0</td>\n",
       "      <td>0.000000e+00</td>\n",
       "      <td>delta_bind</td>\n",
       "      <td>-0.40294</td>\n",
       "    </tr>\n",
       "  </tbody>\n",
       "</table>"
      ],
      "text/plain": [
       "<IPython.core.display.HTML object>"
      ]
     },
     "metadata": {},
     "output_type": "display_data"
    }
   ],
   "source": [
    "gisaid_counts = (pd.read_csv(gisaid_counts_file)\n",
    "                 .drop(columns=['isite', 'wildtype'])\n",
    "                )\n",
    "\n",
    "dms_scores=(dms_scores\n",
    "            .merge(gisaid_counts,\n",
    "                   on=['site', 'mutant'],\n",
    "                   how='left',\n",
    "                   validate='many_to_one',\n",
    "                  )\n",
    "            .fillna({'count':0,'n_countries':0, 'frequency': 0})\n",
    "           )\n",
    "\n",
    "dms_scores=dms_scores.melt(id_vars=['wildtype','mutation', 'site', 'mutant', 'count', 'n_countries', 'frequency'],\n",
    "                           value_vars=['delta_bind', 'delta_expr'], \n",
    "                           var_name='metric', \n",
    "                           value_name='score',\n",
    "                          )\n",
    "\n",
    "display(HTML(dms_scores.head().to_html(index=False)))"
   ]
  },
  {
   "cell_type": "code",
   "execution_count": 41,
   "metadata": {
    "execution": {
     "iopub.execute_input": "2022-05-09T04:30:02.779112Z",
     "iopub.status.busy": "2022-05-09T04:30:02.778344Z",
     "iopub.status.idle": "2022-05-09T04:30:05.696990Z",
     "shell.execute_reply": "2022-05-09T04:30:05.696483Z"
    }
   },
   "outputs": [
    {
     "name": "stderr",
     "output_type": "stream",
     "text": [
      "/fh/fast/bloom_j/computational_notebooks/tstarr/2022/SARS-CoV-2-RBD_Omicron_MAP_Adimab/env/lib/python3.8/site-packages/plotnine/utils.py:371: FutureWarning: The frame.append method is deprecated and will be removed from pandas in a future version. Use pandas.concat instead.\n",
      "/fh/fast/bloom_j/computational_notebooks/tstarr/2022/SARS-CoV-2-RBD_Omicron_MAP_Adimab/env/lib/python3.8/site-packages/plotnine/utils.py:371: FutureWarning: The frame.append method is deprecated and will be removed from pandas in a future version. Use pandas.concat instead.\n"
     ]
    },
    {
     "name": "stdout",
     "output_type": "stream",
     "text": [
      "Saving plot to results/bind_expr_filters/counts-v-score.pdf\n"
     ]
    },
    {
     "name": "stderr",
     "output_type": "stream",
     "text": [
      "/fh/fast/bloom_j/computational_notebooks/tstarr/2022/SARS-CoV-2-RBD_Omicron_MAP_Adimab/env/lib/python3.8/site-packages/plotnine/utils.py:371: FutureWarning: The frame.append method is deprecated and will be removed from pandas in a future version. Use pandas.concat instead.\n",
      "/fh/fast/bloom_j/computational_notebooks/tstarr/2022/SARS-CoV-2-RBD_Omicron_MAP_Adimab/env/lib/python3.8/site-packages/plotnine/utils.py:371: FutureWarning: The frame.append method is deprecated and will be removed from pandas in a future version. Use pandas.concat instead.\n"
     ]
    },
    {
     "data": {
      "image/png": "[encoded data removed]",
      "text/plain": [
       "<Figure size 500x250 with 2 Axes>"
      ]
     },
     "metadata": {},
     "output_type": "display_data"
    }
   ],
   "source": [
    "p = (ggplot(dms_scores\n",
    "            # assign small numbers to things with 0 GISAID counts or missing scores so they still appear on plot \n",
    "            .replace({'count': {0: 0.1}, 'score': {np.nan: -5}})\n",
    "            .replace({'delta_bind':'ACE2 binding', 'delta_expr':'RBD expression'})\n",
    "           ) +\n",
    "     aes('count', 'score') +\n",
    "     geom_point(alpha=0.2, color='black') +\n",
    "     facet_grid('~ metric') +\n",
    "     scale_x_log10()+\n",
    "     theme_classic() +\n",
    "     geom_hline(data=new_filter_df.replace({'delta_bind':'ACE2 binding', 'delta_expr':'RBD expression'}),\n",
    "                 mapping=aes(yintercept='score'),\n",
    "                linetype='dashed',\n",
    "                color=CBPALETTE[1])+\n",
    "     theme(figure_size=(2.5 * 2, 2.5 * 1),\n",
    "           strip_background=element_blank(),\n",
    "           strip_text=element_text(size=12),\n",
    "          ) +\n",
    "     xlab('mutation counts in GISAID as of Aug. 1, 2021')+\n",
    "     ylab('Omicron_BA1 RBD DMS score\\n(single mutants)')\n",
    "     )\n",
    "\n",
    "fig = p.draw()\n",
    "\n",
    "plotfile = os.path.join(resultsdir, f\"counts-v-score.pdf\")\n",
    "print(f\"Saving plot to {plotfile}\")\n",
    "p.save(plotfile, verbose=False)"
   ]
  },
  {
   "cell_type": "code",
   "execution_count": 42,
   "metadata": {
    "execution": {
     "iopub.execute_input": "2022-05-09T04:30:05.707079Z",
     "iopub.status.busy": "2022-05-09T04:30:05.706763Z",
     "iopub.status.idle": "2022-05-09T04:30:07.230471Z",
     "shell.execute_reply": "2022-05-09T04:30:07.230937Z"
    }
   },
   "outputs": [
    {
     "name": "stderr",
     "output_type": "stream",
     "text": [
      "/fh/fast/bloom_j/computational_notebooks/tstarr/2022/SARS-CoV-2-RBD_Omicron_MAP_Adimab/env/lib/python3.8/site-packages/plotnine/utils.py:371: FutureWarning: The frame.append method is deprecated and will be removed from pandas in a future version. Use pandas.concat instead.\n",
      "/fh/fast/bloom_j/computational_notebooks/tstarr/2022/SARS-CoV-2-RBD_Omicron_MAP_Adimab/env/lib/python3.8/site-packages/plotnine/utils.py:371: FutureWarning: The frame.append method is deprecated and will be removed from pandas in a future version. Use pandas.concat instead.\n"
     ]
    },
    {
     "name": "stdout",
     "output_type": "stream",
     "text": [
      "Saving plot to results/bind_expr_filters/count-cat-v-score.pdf\n"
     ]
    },
    {
     "name": "stderr",
     "output_type": "stream",
     "text": [
      "/fh/fast/bloom_j/computational_notebooks/tstarr/2022/SARS-CoV-2-RBD_Omicron_MAP_Adimab/env/lib/python3.8/site-packages/plotnine/utils.py:371: FutureWarning: The frame.append method is deprecated and will be removed from pandas in a future version. Use pandas.concat instead.\n",
      "/fh/fast/bloom_j/computational_notebooks/tstarr/2022/SARS-CoV-2-RBD_Omicron_MAP_Adimab/env/lib/python3.8/site-packages/plotnine/utils.py:371: FutureWarning: The frame.append method is deprecated and will be removed from pandas in a future version. Use pandas.concat instead.\n"
     ]
    },
    {
     "data": {
      "image/png": "[encoded data removed]",
      "text/plain": [
       "<Figure size 500x250 with 2 Axes>"
      ]
     },
     "metadata": {},
     "output_type": "display_data"
    }
   ],
   "source": [
    "def assign_count_categories(x):\n",
    "    if x == 0:\n",
    "        return \"0\"\n",
    "    elif x < 10:\n",
    "        return \"1 to 9\"\n",
    "    elif x < 20:\n",
    "        return \"10 to 19\"\n",
    "    elif x < 50:\n",
    "        return \"20 to 49\"\n",
    "    else:\n",
    "        return \">=50\"\n",
    "    \n",
    "count_categories=[\"0\", \"1 to 9\", \"10 to 19\", \"20 to 49\", \">=50\"]\n",
    "\n",
    "dms_scores=(dms_scores\n",
    "            .assign(count_categories=lambda x: x['count'].apply(assign_count_categories),\n",
    "                   )\n",
    "           )\n",
    "\n",
    "dms_scores=(dms_scores\n",
    "            .assign(count_categories=lambda x: pd.Categorical(x['count_categories'],\n",
    "                                                              categories=count_categories,\n",
    "                                                              ordered=True\n",
    "                                                             ))\n",
    "           )\n",
    "\n",
    "p = (ggplot(dms_scores.replace({'delta_bind':'ACE2 binding', 'delta_expr':'RBD expression'})) +\n",
    "     aes('count_categories', 'score') +\n",
    "     geom_hline(data=new_filter_df.replace({'delta_bind':'ACE2 binding', 'delta_expr':'RBD expression'}),\n",
    "                 mapping=aes(yintercept='score'),\n",
    "                linetype='dashed',\n",
    "                color=CBPALETTE[1])+\n",
    "     geom_boxplot(outlier_alpha=0.2) +\n",
    "     facet_grid('~ metric') +\n",
    "     theme_classic() +\n",
    "     theme(figure_size=(2.5 * 2, 2.5 * 1),\n",
    "           axis_text_x=element_text(angle=90),\n",
    "           strip_background=element_blank(),\n",
    "           strip_text=element_text(size=12),\n",
    "          ) +\n",
    "     xlab('mutation counts in GISAID as of Aug. 1 2021')+\n",
    "     ylab('Omicron_BA1 RBD DMS score')\n",
    "     )\n",
    "\n",
    "fig = p.draw()\n",
    "\n",
    "plotfile = os.path.join(resultsdir, f\"count-cat-v-score.pdf\")\n",
    "print(f\"Saving plot to {plotfile}\")\n",
    "p.save(plotfile, verbose=False)"
   ]
  },
  {
   "cell_type": "code",
   "execution_count": 43,
   "metadata": {
    "execution": {
     "iopub.execute_input": "2022-05-09T04:30:07.233363Z",
     "iopub.status.busy": "2022-05-09T04:30:07.232733Z",
     "iopub.status.idle": "2022-05-09T04:30:08.466633Z",
     "shell.execute_reply": "2022-05-09T04:30:08.467064Z"
    }
   },
   "outputs": [
    {
     "name": "stderr",
     "output_type": "stream",
     "text": [
      "/fh/fast/bloom_j/computational_notebooks/tstarr/2022/SARS-CoV-2-RBD_Omicron_MAP_Adimab/env/lib/python3.8/site-packages/plotnine/utils.py:371: FutureWarning: The frame.append method is deprecated and will be removed from pandas in a future version. Use pandas.concat instead.\n",
      "/fh/fast/bloom_j/computational_notebooks/tstarr/2022/SARS-CoV-2-RBD_Omicron_MAP_Adimab/env/lib/python3.8/site-packages/plotnine/utils.py:371: FutureWarning: The frame.append method is deprecated and will be removed from pandas in a future version. Use pandas.concat instead.\n",
      "/fh/fast/bloom_j/computational_notebooks/tstarr/2022/SARS-CoV-2-RBD_Omicron_MAP_Adimab/env/lib/python3.8/site-packages/plotnine/layer.py:324: PlotnineWarning: stat_bin : Removed 26 rows containing non-finite values.\n",
      "/fh/fast/bloom_j/computational_notebooks/tstarr/2022/SARS-CoV-2-RBD_Omicron_MAP_Adimab/env/lib/python3.8/site-packages/plotnine/layer.py:401: PlotnineWarning: geom_histogram : Removed 20 rows containing missing values.\n",
      "/fh/fast/bloom_j/computational_notebooks/tstarr/2022/SARS-CoV-2-RBD_Omicron_MAP_Adimab/env/lib/python3.8/site-packages/plotnine/utils.py:371: FutureWarning: The frame.append method is deprecated and will be removed from pandas in a future version. Use pandas.concat instead.\n",
      "/fh/fast/bloom_j/computational_notebooks/tstarr/2022/SARS-CoV-2-RBD_Omicron_MAP_Adimab/env/lib/python3.8/site-packages/plotnine/utils.py:371: FutureWarning: The frame.append method is deprecated and will be removed from pandas in a future version. Use pandas.concat instead.\n",
      "/fh/fast/bloom_j/computational_notebooks/tstarr/2022/SARS-CoV-2-RBD_Omicron_MAP_Adimab/env/lib/python3.8/site-packages/plotnine/layer.py:324: PlotnineWarning: stat_bin : Removed 26 rows containing non-finite values.\n"
     ]
    },
    {
     "name": "stdout",
     "output_type": "stream",
     "text": [
      "Saving plot to results/bind_expr_filters/count-score-histogram.pdf\n"
     ]
    },
    {
     "name": "stderr",
     "output_type": "stream",
     "text": [
      "/fh/fast/bloom_j/computational_notebooks/tstarr/2022/SARS-CoV-2-RBD_Omicron_MAP_Adimab/env/lib/python3.8/site-packages/plotnine/layer.py:401: PlotnineWarning: geom_histogram : Removed 20 rows containing missing values.\n"
     ]
    },
    {
     "data": {
      "image/png": "[encoded data removed]",
      "text/plain": [
       "<Figure size 500x250 with 2 Axes>"
      ]
     },
     "metadata": {},
     "output_type": "display_data"
    }
   ],
   "source": [
    "x_min=-4.5\n",
    "x_max=0.5\n",
    "\n",
    "p = (ggplot(dms_scores.replace({'delta_bind':'ACE2 binding', 'delta_expr':'RBD expression'})) +\n",
    "     aes(x='score', fill='count_categories') +\n",
    "     geom_histogram(position='identity', bins=50) +\n",
    "     facet_grid('~ metric') +\n",
    "     scale_x_continuous(breaks=np.arange(x_min,x_max,0.5), limits=[x_min, x_max]) +\n",
    "     geom_vline(data=new_filter_df.replace({'delta_bind':'ACE2 binding', 'delta_expr':'RBD expression'}),\n",
    "                     mapping=aes(xintercept='score'),\n",
    "                    linetype='dashed',\n",
    "                    color=CBPALETTE[1])+\n",
    "     theme_classic() +\n",
    "     theme(figure_size=(2.5 * 2, 2.5 * 1),\n",
    "           plot_title=element_text(size=14),\n",
    "           axis_text_x=element_text(angle=90),\n",
    "           strip_background=element_blank(),\n",
    "           strip_text=element_text(size=12),\n",
    "          ) +\n",
    "     ylab('number of mutations')+\n",
    "     xlab('BA1 RBD DMS score') +\n",
    "     labs(fill='GISAID counts')\n",
    "     )\n",
    "\n",
    "fig = p.draw()\n",
    "\n",
    "plotfile = os.path.join(resultsdir, f\"count-score-histogram.pdf\")\n",
    "print(f\"Saving plot to {plotfile}\")\n",
    "p.save(plotfile, verbose=False)"
   ]
  },
  {
   "cell_type": "markdown",
   "metadata": {},
   "source": [
    "Things I want to know:\n",
    "1. Mutations that have **any** counts in nature but are missing scores\n",
    "2. Mutations that have appreciable counts (>=50) in nature but very low scores\n",
    "3. The scores corresponding to the 95th percentile of all mutations occurring >= 50x in nature\n",
    "4. The scores of mutations to disulfide bonds"
   ]
  },
  {
   "cell_type": "code",
   "execution_count": 44,
   "metadata": {
    "execution": {
     "iopub.execute_input": "2022-05-09T04:30:08.469282Z",
     "iopub.status.busy": "2022-05-09T04:30:08.468674Z",
     "iopub.status.idle": "2022-05-09T04:30:08.483371Z",
     "shell.execute_reply": "2022-05-09T04:30:08.483881Z"
    }
   },
   "outputs": [
    {
     "name": "stdout",
     "output_type": "stream",
     "text": [
      "Here are the naturally occurring mutations that are missing scores from BA1 DMS\n"
     ]
    },
    {
     "data": {
      "text/html": [
       "<table border=\"1\" class=\"dataframe\">\n",
       "  <thead>\n",
       "    <tr style=\"text-align: right;\">\n",
       "      <th>wildtype</th>\n",
       "      <th>mutation</th>\n",
       "      <th>count</th>\n",
       "      <th>n_countries</th>\n",
       "      <th>frequency</th>\n",
       "      <th>score</th>\n",
       "    </tr>\n",
       "  </thead>\n",
       "  <tbody>\n",
       "  </tbody>\n",
       "</table>"
      ],
      "text/plain": [
       "<IPython.core.display.HTML object>"
      ]
     },
     "metadata": {},
     "output_type": "display_data"
    }
   ],
   "source": [
    "print('Here are the naturally occurring mutations that are missing scores from BA1 DMS')\n",
    "display(HTML(dms_scores\n",
    "             .query('count >= 1')\n",
    "             .query('score.isnull()', engine='python')\n",
    "             [['wildtype','mutation', 'count', 'n_countries', 'frequency', 'score']]\n",
    "             .drop_duplicates()\n",
    "             .to_html(index=False)\n",
    "            )\n",
    "       )"
   ]
  },
  {
   "cell_type": "code",
   "execution_count": 45,
   "metadata": {
    "execution": {
     "iopub.execute_input": "2022-05-09T04:30:08.486410Z",
     "iopub.status.busy": "2022-05-09T04:30:08.485654Z",
     "iopub.status.idle": "2022-05-09T04:30:08.505592Z",
     "shell.execute_reply": "2022-05-09T04:30:08.506022Z"
    }
   },
   "outputs": [
    {
     "name": "stdout",
     "output_type": "stream",
     "text": [
      "Mutations with >=50 GISAID counts but with bind score < -2.5\n"
     ]
    },
    {
     "data": {
      "text/html": [
       "<table border=\"1\" class=\"dataframe\">\n",
       "  <thead>\n",
       "    <tr style=\"text-align: right;\">\n",
       "      <th>wildtype</th>\n",
       "      <th>mutation</th>\n",
       "      <th>site</th>\n",
       "      <th>mutant</th>\n",
       "      <th>count</th>\n",
       "      <th>n_countries</th>\n",
       "      <th>frequency</th>\n",
       "      <th>metric</th>\n",
       "      <th>score</th>\n",
       "      <th>count_categories</th>\n",
       "    </tr>\n",
       "  </thead>\n",
       "  <tbody>\n",
       "    <tr>\n",
       "      <td>A</td>\n",
       "      <td>A419S</td>\n",
       "      <td>419</td>\n",
       "      <td>S</td>\n",
       "      <td>313.0</td>\n",
       "      <td>35.0</td>\n",
       "      <td>0.000162</td>\n",
       "      <td>delta_bind</td>\n",
       "      <td>-3.34454</td>\n",
       "      <td>&gt;=50</td>\n",
       "    </tr>\n",
       "    <tr>\n",
       "      <td>Y</td>\n",
       "      <td>Y501S</td>\n",
       "      <td>501</td>\n",
       "      <td>S</td>\n",
       "      <td>94.0</td>\n",
       "      <td>14.0</td>\n",
       "      <td>0.000049</td>\n",
       "      <td>delta_bind</td>\n",
       "      <td>-2.95033</td>\n",
       "      <td>&gt;=50</td>\n",
       "    </tr>\n",
       "  </tbody>\n",
       "</table>"
      ],
      "text/plain": [
       "<IPython.core.display.HTML object>"
      ]
     },
     "metadata": {},
     "output_type": "display_data"
    },
    {
     "name": "stdout",
     "output_type": "stream",
     "text": [
      "Mutations with >=50 GISAID counts but with expr score < -1\n"
     ]
    },
    {
     "data": {
      "text/html": [
       "<table border=\"1\" class=\"dataframe\">\n",
       "  <thead>\n",
       "    <tr style=\"text-align: right;\">\n",
       "      <th>wildtype</th>\n",
       "      <th>mutation</th>\n",
       "      <th>site</th>\n",
       "      <th>mutant</th>\n",
       "      <th>count</th>\n",
       "      <th>n_countries</th>\n",
       "      <th>frequency</th>\n",
       "      <th>metric</th>\n",
       "      <th>score</th>\n",
       "      <th>count_categories</th>\n",
       "    </tr>\n",
       "  </thead>\n",
       "  <tbody>\n",
       "    <tr>\n",
       "      <td>P</td>\n",
       "      <td>P521L</td>\n",
       "      <td>521</td>\n",
       "      <td>L</td>\n",
       "      <td>50.0</td>\n",
       "      <td>13.0</td>\n",
       "      <td>0.000026</td>\n",
       "      <td>delta_expr</td>\n",
       "      <td>-1.21563</td>\n",
       "      <td>&gt;=50</td>\n",
       "    </tr>\n",
       "    <tr>\n",
       "      <td>P</td>\n",
       "      <td>P491S</td>\n",
       "      <td>491</td>\n",
       "      <td>S</td>\n",
       "      <td>98.0</td>\n",
       "      <td>18.0</td>\n",
       "      <td>0.000051</td>\n",
       "      <td>delta_expr</td>\n",
       "      <td>-1.20171</td>\n",
       "      <td>&gt;=50</td>\n",
       "    </tr>\n",
       "    <tr>\n",
       "      <td>P</td>\n",
       "      <td>P499L</td>\n",
       "      <td>499</td>\n",
       "      <td>L</td>\n",
       "      <td>83.0</td>\n",
       "      <td>13.0</td>\n",
       "      <td>0.000043</td>\n",
       "      <td>delta_expr</td>\n",
       "      <td>-1.17862</td>\n",
       "      <td>&gt;=50</td>\n",
       "    </tr>\n",
       "    <tr>\n",
       "      <td>A</td>\n",
       "      <td>A352V</td>\n",
       "      <td>352</td>\n",
       "      <td>V</td>\n",
       "      <td>156.0</td>\n",
       "      <td>23.0</td>\n",
       "      <td>0.000081</td>\n",
       "      <td>delta_expr</td>\n",
       "      <td>-1.17426</td>\n",
       "      <td>&gt;=50</td>\n",
       "    </tr>\n",
       "    <tr>\n",
       "      <td>A</td>\n",
       "      <td>A411V</td>\n",
       "      <td>411</td>\n",
       "      <td>V</td>\n",
       "      <td>53.0</td>\n",
       "      <td>12.0</td>\n",
       "      <td>0.000027</td>\n",
       "      <td>delta_expr</td>\n",
       "      <td>-1.16146</td>\n",
       "      <td>&gt;=50</td>\n",
       "    </tr>\n",
       "    <tr>\n",
       "      <td>G</td>\n",
       "      <td>G413V</td>\n",
       "      <td>413</td>\n",
       "      <td>V</td>\n",
       "      <td>56.0</td>\n",
       "      <td>18.0</td>\n",
       "      <td>0.000029</td>\n",
       "      <td>delta_expr</td>\n",
       "      <td>-1.16131</td>\n",
       "      <td>&gt;=50</td>\n",
       "    </tr>\n",
       "    <tr>\n",
       "      <td>P</td>\n",
       "      <td>P507S</td>\n",
       "      <td>507</td>\n",
       "      <td>S</td>\n",
       "      <td>59.0</td>\n",
       "      <td>12.0</td>\n",
       "      <td>0.000031</td>\n",
       "      <td>delta_expr</td>\n",
       "      <td>-1.07858</td>\n",
       "      <td>&gt;=50</td>\n",
       "    </tr>\n",
       "    <tr>\n",
       "      <td>K</td>\n",
       "      <td>K356N</td>\n",
       "      <td>356</td>\n",
       "      <td>N</td>\n",
       "      <td>125.0</td>\n",
       "      <td>11.0</td>\n",
       "      <td>0.000065</td>\n",
       "      <td>delta_expr</td>\n",
       "      <td>-1.07163</td>\n",
       "      <td>&gt;=50</td>\n",
       "    </tr>\n",
       "    <tr>\n",
       "      <td>P</td>\n",
       "      <td>P373L</td>\n",
       "      <td>373</td>\n",
       "      <td>L</td>\n",
       "      <td>285.0</td>\n",
       "      <td>30.0</td>\n",
       "      <td>0.000148</td>\n",
       "      <td>delta_expr</td>\n",
       "      <td>-1.06462</td>\n",
       "      <td>&gt;=50</td>\n",
       "    </tr>\n",
       "    <tr>\n",
       "      <td>D</td>\n",
       "      <td>D405Y</td>\n",
       "      <td>405</td>\n",
       "      <td>Y</td>\n",
       "      <td>77.0</td>\n",
       "      <td>21.0</td>\n",
       "      <td>0.000040</td>\n",
       "      <td>delta_expr</td>\n",
       "      <td>-1.06126</td>\n",
       "      <td>&gt;=50</td>\n",
       "    </tr>\n",
       "    <tr>\n",
       "      <td>Q</td>\n",
       "      <td>Q414H</td>\n",
       "      <td>414</td>\n",
       "      <td>H</td>\n",
       "      <td>678.0</td>\n",
       "      <td>14.0</td>\n",
       "      <td>0.000351</td>\n",
       "      <td>delta_expr</td>\n",
       "      <td>-1.01997</td>\n",
       "      <td>&gt;=50</td>\n",
       "    </tr>\n",
       "    <tr>\n",
       "      <td>G</td>\n",
       "      <td>G485V</td>\n",
       "      <td>485</td>\n",
       "      <td>V</td>\n",
       "      <td>84.0</td>\n",
       "      <td>17.0</td>\n",
       "      <td>0.000044</td>\n",
       "      <td>delta_expr</td>\n",
       "      <td>-1.01817</td>\n",
       "      <td>&gt;=50</td>\n",
       "    </tr>\n",
       "  </tbody>\n",
       "</table>"
      ],
      "text/plain": [
       "<IPython.core.display.HTML object>"
      ]
     },
     "metadata": {},
     "output_type": "display_data"
    }
   ],
   "source": [
    "for metric in ['bind', 'expr']:\n",
    "    m=f\"delta_{metric}\"\n",
    "    score_filter=new_thresholds[m]\n",
    "    print(f'Mutations with >=50 GISAID counts but with {metric} score < {score_filter}')\n",
    "    display(HTML(dms_scores\n",
    "                 .query('metric==@m & count >= 50 & score < @score_filter')\n",
    "                 .drop_duplicates()\n",
    "                 .sort_values(by='score')\n",
    "                 .head(20)\n",
    "                 .to_html(index=False)\n",
    "                )\n",
    "           )"
   ]
  },
  {
   "cell_type": "code",
   "execution_count": 46,
   "metadata": {
    "execution": {
     "iopub.execute_input": "2022-05-09T04:30:08.508160Z",
     "iopub.status.busy": "2022-05-09T04:30:08.507536Z",
     "iopub.status.idle": "2022-05-09T04:30:09.393734Z",
     "shell.execute_reply": "2022-05-09T04:30:09.394179Z"
    }
   },
   "outputs": [
    {
     "name": "stdout",
     "output_type": "stream",
     "text": [
      "Here are the scores for mutations to disulfide bonds:\n"
     ]
    },
    {
     "name": "stderr",
     "output_type": "stream",
     "text": [
      "/fh/fast/bloom_j/computational_notebooks/tstarr/2022/SARS-CoV-2-RBD_Omicron_MAP_Adimab/env/lib/python3.8/site-packages/plotnine/utils.py:371: FutureWarning: The frame.append method is deprecated and will be removed from pandas in a future version. Use pandas.concat instead.\n",
      "/fh/fast/bloom_j/computational_notebooks/tstarr/2022/SARS-CoV-2-RBD_Omicron_MAP_Adimab/env/lib/python3.8/site-packages/plotnine/utils.py:371: FutureWarning: The frame.append method is deprecated and will be removed from pandas in a future version. Use pandas.concat instead.\n"
     ]
    },
    {
     "name": "stdout",
     "output_type": "stream",
     "text": [
      "Saving plot to results/bind_expr_filters/disulfide-histogram.pdf\n"
     ]
    },
    {
     "name": "stderr",
     "output_type": "stream",
     "text": [
      "/fh/fast/bloom_j/computational_notebooks/tstarr/2022/SARS-CoV-2-RBD_Omicron_MAP_Adimab/env/lib/python3.8/site-packages/plotnine/utils.py:371: FutureWarning: The frame.append method is deprecated and will be removed from pandas in a future version. Use pandas.concat instead.\n",
      "/fh/fast/bloom_j/computational_notebooks/tstarr/2022/SARS-CoV-2-RBD_Omicron_MAP_Adimab/env/lib/python3.8/site-packages/plotnine/utils.py:371: FutureWarning: The frame.append method is deprecated and will be removed from pandas in a future version. Use pandas.concat instead.\n"
     ]
    },
    {
     "data": {
      "image/png": "[encoded data removed]",
      "text/plain": [
       "<Figure size 500x250 with 2 Axes>"
      ]
     },
     "metadata": {},
     "output_type": "display_data"
    }
   ],
   "source": [
    "print('Here are the scores for mutations to disulfide bonds:')\n",
    "\n",
    "p = (ggplot(dms_scores\n",
    "            .replace({'delta_bind':'ACE2 binding', 'delta_expr':'RBD expression'})\n",
    "            .assign(wildtype=lambda x: x['mutation'].str[0])\n",
    "            .query('wildtype==\"C\" & mutant!=\"C\"')\n",
    "           ) +\n",
    "     aes(x='score') + \n",
    "     geom_histogram(binwidth=0.25) +\n",
    "     geom_vline(data=new_filter_df.replace({'delta_bind':'ACE2 binding', 'delta_expr':'RBD expression'}),\n",
    "                     mapping=aes(xintercept='score'),\n",
    "                    linetype='dashed',\n",
    "                    color=CBPALETTE[1])+\n",
    "     facet_wrap('~ metric') +\n",
    "     theme_classic() +\n",
    "     theme(figure_size=(2.5 * 2, 2.5 * 1),\n",
    "           plot_title=element_text(size=14),\n",
    "           axis_text_x=element_text(angle=90),\n",
    "           strip_background=element_blank(),\n",
    "           strip_text=element_text(size=12),\n",
    "          ) +\n",
    "     xlab('WH1 RBD DMS score')\n",
    "     )\n",
    "\n",
    "fig = p.draw()\n",
    "\n",
    "plotfile = os.path.join(resultsdir, f\"disulfide-histogram.pdf\")\n",
    "print(f\"Saving plot to {plotfile}\")\n",
    "p.save(plotfile, verbose=False)"
   ]
  },
  {
   "cell_type": "markdown",
   "metadata": {},
   "source": [
    "### Get the bind and expr scores that correspond to the 5th percentile of mutations observed at least 50x in GISAID"
   ]
  },
  {
   "cell_type": "code",
   "execution_count": 47,
   "metadata": {
    "execution": {
     "iopub.execute_input": "2022-05-09T04:30:09.396426Z",
     "iopub.status.busy": "2022-05-09T04:30:09.395814Z",
     "iopub.status.idle": "2022-05-09T04:30:09.430457Z",
     "shell.execute_reply": "2022-05-09T04:30:09.430883Z"
    }
   },
   "outputs": [
    {
     "data": {
      "text/html": [
       "<table border=\"1\" class=\"dataframe\">\n",
       "  <thead>\n",
       "    <tr style=\"text-align: right;\">\n",
       "      <th>count_threshold</th>\n",
       "      <th>percentile</th>\n",
       "      <th>bind_count</th>\n",
       "      <th>expr_count</th>\n",
       "    </tr>\n",
       "  </thead>\n",
       "  <tbody>\n",
       "    <tr>\n",
       "      <td>50</td>\n",
       "      <td>1.0</td>\n",
       "      <td>-2.421118</td>\n",
       "      <td>-1.182776</td>\n",
       "    </tr>\n",
       "    <tr>\n",
       "      <td>50</td>\n",
       "      <td>2.5</td>\n",
       "      <td>-1.640508</td>\n",
       "      <td>-1.161377</td>\n",
       "    </tr>\n",
       "    <tr>\n",
       "      <td>50</td>\n",
       "      <td>5.0</td>\n",
       "      <td>-1.362491</td>\n",
       "      <td>-1.057131</td>\n",
       "    </tr>\n",
       "    <tr>\n",
       "      <td>50</td>\n",
       "      <td>10.0</td>\n",
       "      <td>-0.819488</td>\n",
       "      <td>-0.904308</td>\n",
       "    </tr>\n",
       "    <tr>\n",
       "      <td>50</td>\n",
       "      <td>25.0</td>\n",
       "      <td>-0.518110</td>\n",
       "      <td>-0.560150</td>\n",
       "    </tr>\n",
       "  </tbody>\n",
       "</table>"
      ],
      "text/plain": [
       "<IPython.core.display.HTML object>"
      ]
     },
     "metadata": {},
     "output_type": "display_data"
    }
   ],
   "source": [
    "def get_filter(scores_df, metric, count_threshold, percentile):\n",
    "    \n",
    "    scores=(scores_df\n",
    "            .query('metric==@metric & count >=@count_threshold')\n",
    "            .dropna()\n",
    "            )['score'].tolist()\n",
    "            \n",
    "    c=np.percentile(scores, percentile)\n",
    "    \n",
    "    return c\n",
    "\n",
    "count_thresholds = [50]\n",
    "percentiles=[1,2.5,5,10,25]\n",
    "\n",
    "v=[]\n",
    "\n",
    "for i in count_thresholds:\n",
    "    for p in percentiles:\n",
    "        t=(i,p)\n",
    "        \n",
    "        scores=(dms_scores)\n",
    "        bind_filter=get_filter(scores, 'delta_bind', i, p)\n",
    "        expr_filter=get_filter(scores, 'delta_expr', i, p)\n",
    "        \n",
    "        t=(i, p, bind_filter, expr_filter)\n",
    "        \n",
    "        v.append(t)\n",
    "        \n",
    "\n",
    "df = pd.DataFrame(v, columns =['count_threshold', 'percentile', 'bind_count', 'expr_count'])\n",
    "display(HTML(df.to_html(index=False)))"
   ]
  },
  {
   "cell_type": "code",
   "execution_count": 48,
   "metadata": {
    "execution": {
     "iopub.execute_input": "2022-05-09T04:30:09.432993Z",
     "iopub.status.busy": "2022-05-09T04:30:09.432397Z",
     "iopub.status.idle": "2022-05-09T04:30:09.453604Z",
     "shell.execute_reply": "2022-05-09T04:30:09.454034Z"
    }
   },
   "outputs": [
    {
     "data": {
      "text/html": [
       "<table border=\"1\" class=\"dataframe\">\n",
       "  <thead>\n",
       "    <tr style=\"text-align: right;\">\n",
       "      <th>site</th>\n",
       "      <th>mutant</th>\n",
       "      <th>delta_bind</th>\n",
       "      <th>delta_expr</th>\n",
       "    </tr>\n",
       "  </thead>\n",
       "  <tbody>\n",
       "    <tr>\n",
       "      <td>331</td>\n",
       "      <td>A</td>\n",
       "      <td>-0.03</td>\n",
       "      <td>-0.11</td>\n",
       "    </tr>\n",
       "    <tr>\n",
       "      <td>331</td>\n",
       "      <td>C</td>\n",
       "      <td>-0.09</td>\n",
       "      <td>-1.26</td>\n",
       "    </tr>\n",
       "  </tbody>\n",
       "</table>"
      ],
      "text/plain": [
       "<IPython.core.display.HTML object>"
      ]
     },
     "metadata": {},
     "output_type": "display_data"
    }
   ],
   "source": [
    "og_dms_scores=(pd.read_csv(og_dms_file)\n",
    "               # remove extraneous columns\n",
    "               .drop(columns=['site_RBD','wildtype', 'mutation', 'mutation_RBD', 'bind_lib1', 'bind_lib2', 'expr_lib1', 'expr_lib2'])\n",
    "               # rename some columns\n",
    "               .rename(columns={'site_SARS2':'site', 'bind_avg':'delta_bind', 'expr_avg':'delta_expr'})\n",
    "              )\n",
    "\n",
    "display(HTML(og_dms_scores.head(2).to_html(index=False)))"
   ]
  },
  {
   "cell_type": "code",
   "execution_count": 49,
   "metadata": {
    "execution": {
     "iopub.execute_input": "2022-05-09T04:30:09.456133Z",
     "iopub.status.busy": "2022-05-09T04:30:09.455530Z",
     "iopub.status.idle": "2022-05-09T04:30:09.473906Z",
     "shell.execute_reply": "2022-05-09T04:30:09.474322Z"
    }
   },
   "outputs": [
    {
     "data": {
      "text/html": [
       "<table border=\"1\" class=\"dataframe\">\n",
       "  <thead>\n",
       "    <tr style=\"text-align: right;\">\n",
       "      <th>wildtype</th>\n",
       "      <th>mutation</th>\n",
       "      <th>site</th>\n",
       "      <th>mutant</th>\n",
       "      <th>count</th>\n",
       "      <th>n_countries</th>\n",
       "      <th>frequency</th>\n",
       "      <th>metric</th>\n",
       "      <th>score</th>\n",
       "      <th>count_categories</th>\n",
       "      <th>wuhan1dms_score</th>\n",
       "    </tr>\n",
       "  </thead>\n",
       "  <tbody>\n",
       "    <tr>\n",
       "      <td>N</td>\n",
       "      <td>N331A</td>\n",
       "      <td>331</td>\n",
       "      <td>A</td>\n",
       "      <td>0.0</td>\n",
       "      <td>0.0</td>\n",
       "      <td>0.000000e+00</td>\n",
       "      <td>delta_bind</td>\n",
       "      <td>-0.24400</td>\n",
       "      <td>0</td>\n",
       "      <td>-0.03</td>\n",
       "    </tr>\n",
       "    <tr>\n",
       "      <td>N</td>\n",
       "      <td>N331C</td>\n",
       "      <td>331</td>\n",
       "      <td>C</td>\n",
       "      <td>0.0</td>\n",
       "      <td>0.0</td>\n",
       "      <td>0.000000e+00</td>\n",
       "      <td>delta_bind</td>\n",
       "      <td>-0.68319</td>\n",
       "      <td>0</td>\n",
       "      <td>-0.09</td>\n",
       "    </tr>\n",
       "    <tr>\n",
       "      <td>N</td>\n",
       "      <td>N331D</td>\n",
       "      <td>331</td>\n",
       "      <td>D</td>\n",
       "      <td>1.0</td>\n",
       "      <td>1.0</td>\n",
       "      <td>5.178956e-07</td>\n",
       "      <td>delta_bind</td>\n",
       "      <td>-0.22267</td>\n",
       "      <td>1 to 9</td>\n",
       "      <td>0.03</td>\n",
       "    </tr>\n",
       "    <tr>\n",
       "      <td>N</td>\n",
       "      <td>N331E</td>\n",
       "      <td>331</td>\n",
       "      <td>E</td>\n",
       "      <td>0.0</td>\n",
       "      <td>0.0</td>\n",
       "      <td>0.000000e+00</td>\n",
       "      <td>delta_bind</td>\n",
       "      <td>-0.21514</td>\n",
       "      <td>0</td>\n",
       "      <td>0.00</td>\n",
       "    </tr>\n",
       "    <tr>\n",
       "      <td>N</td>\n",
       "      <td>N331F</td>\n",
       "      <td>331</td>\n",
       "      <td>F</td>\n",
       "      <td>0.0</td>\n",
       "      <td>0.0</td>\n",
       "      <td>0.000000e+00</td>\n",
       "      <td>delta_bind</td>\n",
       "      <td>-0.40294</td>\n",
       "      <td>0</td>\n",
       "      <td>-0.10</td>\n",
       "    </tr>\n",
       "  </tbody>\n",
       "</table>"
      ],
      "text/plain": [
       "<IPython.core.display.HTML object>"
      ]
     },
     "metadata": {},
     "output_type": "display_data"
    }
   ],
   "source": [
    "dms_scores=(dms_scores\n",
    "            .merge((og_dms_scores\n",
    "                    .melt(id_vars=['site', 'mutant',],\n",
    "                          value_vars=['delta_bind', 'delta_expr'], \n",
    "                          var_name='metric', \n",
    "                          value_name='wuhan1dms_score',\n",
    "                         )\n",
    "                   ),\n",
    "                   how='left',\n",
    "                   on=['site', 'mutant', 'metric'],\n",
    "                   validate='many_to_one'\n",
    "                  )\n",
    "           )\n",
    "display(HTML(dms_scores.head().to_html(index=False)))"
   ]
  },
  {
   "cell_type": "code",
   "execution_count": 50,
   "metadata": {
    "execution": {
     "iopub.execute_input": "2022-05-09T04:30:09.476375Z",
     "iopub.status.busy": "2022-05-09T04:30:09.475779Z",
     "iopub.status.idle": "2022-05-09T04:30:09.485220Z",
     "shell.execute_reply": "2022-05-09T04:30:09.485730Z"
    }
   },
   "outputs": [
    {
     "name": "stdout",
     "output_type": "stream",
     "text": [
      "Mutations from the original Wuhan-Hu-1 library that:\n",
      "pass bind: 3422\n",
      "pass expr: 2328\n",
      "pass both: 2269\n"
     ]
    }
   ],
   "source": [
    "print('Mutations from the original Wuhan-Hu-1 library that:')\n",
    "print('pass bind: '+ str(len(og_dms_scores.query('delta_bind >= -2.35'))))\n",
    "print('pass expr: '+ str(len(og_dms_scores.query('delta_expr >= -1.0'))))\n",
    "print('pass both: '+ str(len(og_dms_scores.query('delta_bind >= -2.35 & delta_expr >= -1.0'))))"
   ]
  },
  {
   "cell_type": "code",
   "execution_count": 51,
   "metadata": {
    "execution": {
     "iopub.execute_input": "2022-05-09T04:30:09.488271Z",
     "iopub.status.busy": "2022-05-09T04:30:09.487488Z",
     "iopub.status.idle": "2022-05-09T04:30:09.529548Z",
     "shell.execute_reply": "2022-05-09T04:30:09.530018Z"
    }
   },
   "outputs": [
    {
     "name": "stdout",
     "output_type": "stream",
     "text": [
      "BA1 SSM mutations that \n",
      "pass bind: 3511 \n",
      "pass expr: 2563 \n",
      "pass both: 2446 \n",
      "pass both and not disulfide: 2400\n",
      "Pass bind, expr, not disulfide, and not WT: 2207\n",
      "Total number of possible mutations to non-disulfide sites: 3667\n"
     ]
    }
   ],
   "source": [
    "bind_threshold=new_thresholds['delta_bind']\n",
    "expr_threshold=new_thresholds['delta_expr']\n",
    "        \n",
    "n_bind=len(dms_scores.query('metric==\"delta_bind\" & score >= @bind_threshold'))\n",
    "n_expr=len(dms_scores.query('metric==\"delta_expr\" & score >= @expr_threshold'))\n",
    "\n",
    "df=(dms_scores\n",
    "     .pivot_table(index=['mutation', 'wildtype', 'mutant'],\n",
    "                  values=['score'],\n",
    "                  columns=['metric'],\n",
    "                 )\n",
    "     .reset_index()\n",
    "       )\n",
    "\n",
    "df.columns=['mutation', 'wildtype', 'mutant','delta_bind', 'delta_expr']\n",
    "\n",
    "n_both=len(df\n",
    "           .query('delta_bind >= @bind_threshold & delta_expr >= @expr_threshold')\n",
    "          )\n",
    "        \n",
    "n_both_notC=len((df\n",
    "                .assign(not_disulfide=lambda x: x['mutation'].str[0] != \"C\")\n",
    "                .query('delta_bind >= @bind_threshold & delta_expr >= @expr_threshold & not_disulfide')\n",
    "          ))\n",
    "\n",
    "n_both_notC_notWT=len((df\n",
    "                .assign(not_disulfide=lambda x: x['mutation'].str[0] != \"C\")\n",
    "                .assign(not_WT=lambda x: x['wildtype']!=x['mutant'])\n",
    "                .query('delta_bind >= @bind_threshold & delta_expr >= @expr_threshold & not_disulfide & not_WT')\n",
    "          ))\n",
    "\n",
    "total_muts_notC=len((df\n",
    "                .assign(not_disulfide=lambda x: x['mutation'].str[0] != \"C\")\n",
    "                .assign(not_WT=lambda x: x['wildtype']!=x['mutant'])\n",
    "                .query('not_disulfide & not_WT')\n",
    "          ))\n",
    "\n",
    "print(f'BA1 SSM mutations that \\npass bind: {n_bind} \\npass expr: {n_expr} \\npass both: {n_both} \\npass both and not disulfide: {n_both_notC}')\n",
    "print(f'Pass bind, expr, not disulfide, and not WT: {n_both_notC_notWT}')\n",
    "\n",
    "print(f'Total number of possible mutations to non-disulfide sites: {total_muts_notC}')"
   ]
  },
  {
   "cell_type": "code",
   "execution_count": 52,
   "metadata": {
    "execution": {
     "iopub.execute_input": "2022-05-09T04:30:09.532276Z",
     "iopub.status.busy": "2022-05-09T04:30:09.531639Z",
     "iopub.status.idle": "2022-05-09T04:30:09.540928Z",
     "shell.execute_reply": "2022-05-09T04:30:09.541439Z"
    }
   },
   "outputs": [
    {
     "name": "stdout",
     "output_type": "stream",
     "text": [
      "This percentage of all variants seen >=50x in GISAID are retained by the binding filter of -2.5\n",
      "98.9\n",
      "This percentage of all variants seen >=50x in GISAID are retained by the expression filter of -1\n",
      "93.4\n"
     ]
    }
   ],
   "source": [
    "print(f'This percentage of all variants seen >=50x in GISAID are retained by the binding filter of {bind_threshold}')\n",
    "print(round(100-stats.percentileofscore((dms_scores\n",
    "                               .query('metric==\"delta_bind\" & count>=50')['score']), \n",
    "                              bind_threshold, \n",
    "                              kind='rank'\n",
    "                             ),\n",
    "            1\n",
    "           )\n",
    "     )\n",
    "\n",
    "print(f'This percentage of all variants seen >=50x in GISAID are retained by the expression filter of {expr_threshold}')\n",
    "print(round(100-stats.percentileofscore((dms_scores\n",
    "                               .query('metric==\"delta_expr\" & count>=50')['score']), \n",
    "                              expr_threshold, \n",
    "                              kind='rank'\n",
    "                             ),\n",
    "            1\n",
    "           )\n",
    "     )\n",
    "\n",
    "\n",
    "# dms_scores.query('metric==\"delta_bind\" & score >= @bind_threshold & count>=50')['score'].min()"
   ]
  },
  {
   "cell_type": "code",
   "execution_count": null,
   "metadata": {},
   "outputs": [],
   "source": []
  }
 ],
 "metadata": {
  "kernelspec": {
   "display_name": "Python 3 (ipykernel)",
   "language": "python",
   "name": "python3"
  },
  "language_info": {
   "codemirror_mode": {
    "name": "ipython",
    "version": 3
   },
   "file_extension": ".py",
   "mimetype": "text/x-python",
   "name": "python",
   "nbconvert_exporter": "python",
   "pygments_lexer": "ipython3",
   "version": "3.8.13"
  }
 },
 "nbformat": 4,
 "nbformat_minor": 4
}
