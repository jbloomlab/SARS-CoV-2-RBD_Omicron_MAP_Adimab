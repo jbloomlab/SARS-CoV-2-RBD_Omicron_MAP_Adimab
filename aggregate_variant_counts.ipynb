{
 "cells": [
  {
   "cell_type": "markdown",
   "metadata": {},
   "source": [
    "# Aggregate variant counts for all samples\n",
    "Separate `Snakemake` rules count the observations of each variant in each sample from the Illumina barcode sequencing.\n",
    "This Python Jupyter notebook aggregates all of this counts, and then adds them to a codon variant table."
   ]
  },
  {
   "cell_type": "markdown",
   "metadata": {},
   "source": [
    "## Set up analysis\n",
    "### Import Python modules.\n",
    "Use [plotnine](https://plotnine.readthedocs.io/en/stable/) for ggplot2-like plotting.\n",
    "\n",
    "The analysis relies heavily on the Bloom lab's [dms_variants](https://jbloomlab.github.io/dms_variants) package:"
   ]
  },
  {
   "cell_type": "code",
   "execution_count": 1,
   "metadata": {
    "execution": {
     "iopub.execute_input": "2022-06-10T22:44:34.785078Z",
     "iopub.status.busy": "2022-06-10T22:44:34.784632Z",
     "iopub.status.idle": "2022-06-10T22:44:37.921981Z",
     "shell.execute_reply": "2022-06-10T22:44:37.921307Z"
    }
   },
   "outputs": [],
   "source": [
    "import glob\n",
    "import itertools\n",
    "import math\n",
    "import os\n",
    "import warnings\n",
    "\n",
    "import Bio.SeqIO\n",
    "\n",
    "import dms_variants.codonvarianttable\n",
    "from dms_variants.constants import CBPALETTE\n",
    "import dms_variants.utils\n",
    "import dms_variants.plotnine_themes\n",
    "\n",
    "from IPython.display import display, HTML\n",
    "\n",
    "import pandas as pd\n",
    "\n",
    "from plotnine import *\n",
    "\n",
    "import yaml"
   ]
  },
  {
   "cell_type": "markdown",
   "metadata": {},
   "source": [
    "Set [plotnine](https://plotnine.readthedocs.io/en/stable/) theme to the gray-grid one defined in `dms_variants`:"
   ]
  },
  {
   "cell_type": "code",
   "execution_count": 2,
   "metadata": {
    "execution": {
     "iopub.execute_input": "2022-06-10T22:44:37.927287Z",
     "iopub.status.busy": "2022-06-10T22:44:37.925957Z",
     "iopub.status.idle": "2022-06-10T22:44:37.931517Z",
     "shell.execute_reply": "2022-06-10T22:44:37.930960Z"
    }
   },
   "outputs": [],
   "source": [
    "theme_set(dms_variants.plotnine_themes.theme_graygrid())"
   ]
  },
  {
   "cell_type": "markdown",
   "metadata": {},
   "source": [
    "Versions of key software:"
   ]
  },
  {
   "cell_type": "code",
   "execution_count": 3,
   "metadata": {
    "execution": {
     "iopub.execute_input": "2022-06-10T22:44:37.935665Z",
     "iopub.status.busy": "2022-06-10T22:44:37.934655Z",
     "iopub.status.idle": "2022-06-10T22:44:37.940075Z",
     "shell.execute_reply": "2022-06-10T22:44:37.939553Z"
    }
   },
   "outputs": [
    {
     "name": "stdout",
     "output_type": "stream",
     "text": [
      "Using dms_variants version 0.8.10\n"
     ]
    }
   ],
   "source": [
    "print(f\"Using dms_variants version {dms_variants.__version__}\")"
   ]
  },
  {
   "cell_type": "markdown",
   "metadata": {},
   "source": [
    "Ignore warnings that clutter output:"
   ]
  },
  {
   "cell_type": "code",
   "execution_count": 4,
   "metadata": {
    "execution": {
     "iopub.execute_input": "2022-06-10T22:44:37.969410Z",
     "iopub.status.busy": "2022-06-10T22:44:37.969152Z",
     "iopub.status.idle": "2022-06-10T22:44:37.972074Z",
     "shell.execute_reply": "2022-06-10T22:44:37.971551Z"
    }
   },
   "outputs": [],
   "source": [
    "warnings.simplefilter('ignore')"
   ]
  },
  {
   "cell_type": "markdown",
   "metadata": {},
   "source": [
    "Read the configuration file:"
   ]
  },
  {
   "cell_type": "code",
   "execution_count": 5,
   "metadata": {
    "execution": {
     "iopub.execute_input": "2022-06-10T22:44:37.975310Z",
     "iopub.status.busy": "2022-06-10T22:44:37.975096Z",
     "iopub.status.idle": "2022-06-10T22:44:37.990012Z",
     "shell.execute_reply": "2022-06-10T22:44:37.989380Z"
    }
   },
   "outputs": [],
   "source": [
    "with open('config.yaml') as f:\n",
    "    config = yaml.safe_load(f)"
   ]
  },
  {
   "cell_type": "markdown",
   "metadata": {},
   "source": [
    "Make output directory if needed:"
   ]
  },
  {
   "cell_type": "code",
   "execution_count": 6,
   "metadata": {
    "execution": {
     "iopub.execute_input": "2022-06-10T22:44:37.993133Z",
     "iopub.status.busy": "2022-06-10T22:44:37.992735Z",
     "iopub.status.idle": "2022-06-10T22:44:37.997025Z",
     "shell.execute_reply": "2022-06-10T22:44:37.996538Z"
    }
   },
   "outputs": [],
   "source": [
    "os.makedirs(config['counts_dir'], exist_ok=True)"
   ]
  },
  {
   "cell_type": "markdown",
   "metadata": {},
   "source": [
    "## Initialize codon variant table\n",
    "Initialize the [CodonVariantTable](https://jbloomlab.github.io/dms_variants/dms_variants.codonvarianttable.html#dms_variants.codonvarianttable.CodonVariantTable) using the wildtype gene sequence and the CSV file with the table of variants:"
   ]
  },
  {
   "cell_type": "code",
   "execution_count": 7,
   "metadata": {
    "execution": {
     "iopub.execute_input": "2022-06-10T22:44:38.027065Z",
     "iopub.status.busy": "2022-06-10T22:44:38.026133Z",
     "iopub.status.idle": "2022-06-10T22:44:42.456774Z",
     "shell.execute_reply": "2022-06-10T22:44:42.456244Z"
    }
   },
   "outputs": [
    {
     "name": "stdout",
     "output_type": "stream",
     "text": [
      "Read sequence of 603 nt for Omicron_BA1 from data/wildtype_sequence.fasta\n",
      "Initializing CodonVariantTable from gene sequence and data/codon_variant_table_BA1.csv\n"
     ]
    }
   ],
   "source": [
    "wt_seqrecord = Bio.SeqIO.read(config['wildtype_sequence'], 'fasta')\n",
    "geneseq = str(wt_seqrecord.seq)\n",
    "primary_target = wt_seqrecord.name\n",
    "print(f\"Read sequence of {len(geneseq)} nt for {primary_target} from {config['wildtype_sequence']}\")\n",
    "      \n",
    "print(f\"Initializing CodonVariantTable from gene sequence and {config['bc_variant_lookup']}\")\n",
    "      \n",
    "variants = dms_variants.codonvarianttable.CodonVariantTable(\n",
    "                geneseq=geneseq,\n",
    "                barcode_variant_file=config['bc_variant_lookup'],\n",
    "                substitutions_are_codon=True,\n",
    "                substitutions_col='codon_substitutions',\n",
    "                primary_target=primary_target)"
   ]
  },
  {
   "cell_type": "markdown",
   "metadata": {},
   "source": [
    "## Read barcode counts / fates\n",
    "Read data frame with list of all samples (barcode runs):"
   ]
  },
  {
   "cell_type": "code",
   "execution_count": 8,
   "metadata": {
    "execution": {
     "iopub.execute_input": "2022-06-10T22:44:42.460737Z",
     "iopub.status.busy": "2022-06-10T22:44:42.459853Z",
     "iopub.status.idle": "2022-06-10T22:44:42.501966Z",
     "shell.execute_reply": "2022-06-10T22:44:42.501384Z"
    }
   },
   "outputs": [
    {
     "name": "stdout",
     "output_type": "stream",
     "text": [
      "Reading list of barcode runs from data/barcode_runs.csv\n"
     ]
    },
    {
     "data": {
      "text/html": [
       "<table border=\"1\" class=\"dataframe\">\n",
       "  <thead>\n",
       "    <tr style=\"text-align: right;\">\n",
       "      <th>date</th>\n",
       "      <th>experiment</th>\n",
       "      <th>library</th>\n",
       "      <th>antibody</th>\n",
       "      <th>concentration</th>\n",
       "      <th>sort_bin</th>\n",
       "      <th>selection</th>\n",
       "      <th>sample</th>\n",
       "      <th>experiment_type</th>\n",
       "      <th>number_cells</th>\n",
       "      <th>frac_escape</th>\n",
       "      <th>sample_lib</th>\n",
       "      <th>counts_file</th>\n",
       "      <th>fates_file</th>\n",
       "    </tr>\n",
       "  </thead>\n",
       "  <tbody>\n",
       "    <tr>\n",
       "      <td>220422</td>\n",
       "      <td>exptREF</td>\n",
       "      <td>lib22</td>\n",
       "      <td>none</td>\n",
       "      <td>0</td>\n",
       "      <td>ref</td>\n",
       "      <td>reference</td>\n",
       "      <td>exptREF-none-0-ref</td>\n",
       "      <td>ab_selection</td>\n",
       "      <td>NaN</td>\n",
       "      <td>NaN</td>\n",
       "      <td>exptREF-none-0-ref_lib22</td>\n",
       "      <td>results/counts/exptREF-none-0-ref_lib22_counts.csv</td>\n",
       "      <td>results/counts/exptREF-none-0-ref_lib22_fates.csv</td>\n",
       "    </tr>\n",
       "    <tr>\n",
       "      <td>220422</td>\n",
       "      <td>exptREF</td>\n",
       "      <td>lib23</td>\n",
       "      <td>none</td>\n",
       "      <td>0</td>\n",
       "      <td>ref</td>\n",
       "      <td>reference</td>\n",
       "      <td>exptREF-none-0-ref</td>\n",
       "      <td>ab_selection</td>\n",
       "      <td>NaN</td>\n",
       "      <td>NaN</td>\n",
       "      <td>exptREF-none-0-ref_lib23</td>\n",
       "      <td>results/counts/exptREF-none-0-ref_lib23_counts.csv</td>\n",
       "      <td>results/counts/exptREF-none-0-ref_lib23_fates.csv</td>\n",
       "    </tr>\n",
       "    <tr>\n",
       "      <td>220422</td>\n",
       "      <td>expt19</td>\n",
       "      <td>lib22</td>\n",
       "      <td>ADI-75733</td>\n",
       "      <td>249</td>\n",
       "      <td>abneg</td>\n",
       "      <td>escape</td>\n",
       "      <td>expt19-ADI-75733-249-abneg</td>\n",
       "      <td>ab_selection</td>\n",
       "      <td>1077322.0</td>\n",
       "      <td>0.281</td>\n",
       "      <td>expt19-ADI-75733-249-abneg_lib22</td>\n",
       "      <td>results/counts/expt19-ADI-75733-249-abneg_lib22_counts.csv</td>\n",
       "      <td>results/counts/expt19-ADI-75733-249-abneg_lib22_fates.csv</td>\n",
       "    </tr>\n",
       "    <tr>\n",
       "      <td>220422</td>\n",
       "      <td>expt19</td>\n",
       "      <td>lib23</td>\n",
       "      <td>ADI-75733</td>\n",
       "      <td>249</td>\n",
       "      <td>abneg</td>\n",
       "      <td>escape</td>\n",
       "      <td>expt19-ADI-75733-249-abneg</td>\n",
       "      <td>ab_selection</td>\n",
       "      <td>1066348.0</td>\n",
       "      <td>0.266</td>\n",
       "      <td>expt19-ADI-75733-249-abneg_lib23</td>\n",
       "      <td>results/counts/expt19-ADI-75733-249-abneg_lib23_counts.csv</td>\n",
       "      <td>results/counts/expt19-ADI-75733-249-abneg_lib23_fates.csv</td>\n",
       "    </tr>\n",
       "    <tr>\n",
       "      <td>220422</td>\n",
       "      <td>expt20</td>\n",
       "      <td>lib22</td>\n",
       "      <td>ADI-75732</td>\n",
       "      <td>135</td>\n",
       "      <td>abneg</td>\n",
       "      <td>escape</td>\n",
       "      <td>expt20-ADI-75732-135-abneg</td>\n",
       "      <td>ab_selection</td>\n",
       "      <td>1262298.0</td>\n",
       "      <td>0.319</td>\n",
       "      <td>expt20-ADI-75732-135-abneg_lib22</td>\n",
       "      <td>results/counts/expt20-ADI-75732-135-abneg_lib22_counts.csv</td>\n",
       "      <td>results/counts/expt20-ADI-75732-135-abneg_lib22_fates.csv</td>\n",
       "    </tr>\n",
       "    <tr>\n",
       "      <td>220422</td>\n",
       "      <td>expt20</td>\n",
       "      <td>lib23</td>\n",
       "      <td>ADI-75732</td>\n",
       "      <td>135</td>\n",
       "      <td>abneg</td>\n",
       "      <td>escape</td>\n",
       "      <td>expt20-ADI-75732-135-abneg</td>\n",
       "      <td>ab_selection</td>\n",
       "      <td>1281059.0</td>\n",
       "      <td>0.316</td>\n",
       "      <td>expt20-ADI-75732-135-abneg_lib23</td>\n",
       "      <td>results/counts/expt20-ADI-75732-135-abneg_lib23_counts.csv</td>\n",
       "      <td>results/counts/expt20-ADI-75732-135-abneg_lib23_fates.csv</td>\n",
       "    </tr>\n",
       "    <tr>\n",
       "      <td>220422</td>\n",
       "      <td>expt21</td>\n",
       "      <td>lib22</td>\n",
       "      <td>ADI-75739</td>\n",
       "      <td>94</td>\n",
       "      <td>abneg</td>\n",
       "      <td>escape</td>\n",
       "      <td>expt21-ADI-75739-94-abneg</td>\n",
       "      <td>ab_selection</td>\n",
       "      <td>617763.0</td>\n",
       "      <td>0.162</td>\n",
       "      <td>expt21-ADI-75739-94-abneg_lib22</td>\n",
       "      <td>results/counts/expt21-ADI-75739-94-abneg_lib22_counts.csv</td>\n",
       "      <td>results/counts/expt21-ADI-75739-94-abneg_lib22_fates.csv</td>\n",
       "    </tr>\n",
       "    <tr>\n",
       "      <td>220422</td>\n",
       "      <td>expt21</td>\n",
       "      <td>lib23</td>\n",
       "      <td>ADI-75739</td>\n",
       "      <td>94</td>\n",
       "      <td>abneg</td>\n",
       "      <td>escape</td>\n",
       "      <td>expt21-ADI-75739-94-abneg</td>\n",
       "      <td>ab_selection</td>\n",
       "      <td>604623.0</td>\n",
       "      <td>0.157</td>\n",
       "      <td>expt21-ADI-75739-94-abneg_lib23</td>\n",
       "      <td>results/counts/expt21-ADI-75739-94-abneg_lib23_counts.csv</td>\n",
       "      <td>results/counts/expt21-ADI-75739-94-abneg_lib23_fates.csv</td>\n",
       "    </tr>\n",
       "    <tr>\n",
       "      <td>220422</td>\n",
       "      <td>expt22</td>\n",
       "      <td>lib22</td>\n",
       "      <td>ADI-75807</td>\n",
       "      <td>139</td>\n",
       "      <td>abneg</td>\n",
       "      <td>escape</td>\n",
       "      <td>expt22-ADI-75807-139-abneg</td>\n",
       "      <td>ab_selection</td>\n",
       "      <td>704412.0</td>\n",
       "      <td>0.190</td>\n",
       "      <td>expt22-ADI-75807-139-abneg_lib22</td>\n",
       "      <td>results/counts/expt22-ADI-75807-139-abneg_lib22_counts.csv</td>\n",
       "      <td>results/counts/expt22-ADI-75807-139-abneg_lib22_fates.csv</td>\n",
       "    </tr>\n",
       "    <tr>\n",
       "      <td>220422</td>\n",
       "      <td>expt22</td>\n",
       "      <td>lib23</td>\n",
       "      <td>ADI-75807</td>\n",
       "      <td>139</td>\n",
       "      <td>abneg</td>\n",
       "      <td>escape</td>\n",
       "      <td>expt22-ADI-75807-139-abneg</td>\n",
       "      <td>ab_selection</td>\n",
       "      <td>700667.0</td>\n",
       "      <td>0.173</td>\n",
       "      <td>expt22-ADI-75807-139-abneg_lib23</td>\n",
       "      <td>results/counts/expt22-ADI-75807-139-abneg_lib23_counts.csv</td>\n",
       "      <td>results/counts/expt22-ADI-75807-139-abneg_lib23_fates.csv</td>\n",
       "    </tr>\n",
       "    <tr>\n",
       "      <td>220422</td>\n",
       "      <td>expt23</td>\n",
       "      <td>lib22</td>\n",
       "      <td>ADI-75586</td>\n",
       "      <td>64</td>\n",
       "      <td>abneg</td>\n",
       "      <td>escape</td>\n",
       "      <td>expt23-ADI-75586-64-abneg</td>\n",
       "      <td>ab_selection</td>\n",
       "      <td>912151.0</td>\n",
       "      <td>0.236</td>\n",
       "      <td>expt23-ADI-75586-64-abneg_lib22</td>\n",
       "      <td>results/counts/expt23-ADI-75586-64-abneg_lib22_counts.csv</td>\n",
       "      <td>results/counts/expt23-ADI-75586-64-abneg_lib22_fates.csv</td>\n",
       "    </tr>\n",
       "    <tr>\n",
       "      <td>220422</td>\n",
       "      <td>expt23</td>\n",
       "      <td>lib23</td>\n",
       "      <td>ADI-75586</td>\n",
       "      <td>64</td>\n",
       "      <td>abneg</td>\n",
       "      <td>escape</td>\n",
       "      <td>expt23-ADI-75586-64-abneg</td>\n",
       "      <td>ab_selection</td>\n",
       "      <td>843795.0</td>\n",
       "      <td>0.215</td>\n",
       "      <td>expt23-ADI-75586-64-abneg_lib23</td>\n",
       "      <td>results/counts/expt23-ADI-75586-64-abneg_lib23_counts.csv</td>\n",
       "      <td>results/counts/expt23-ADI-75586-64-abneg_lib23_fates.csv</td>\n",
       "    </tr>\n",
       "    <tr>\n",
       "      <td>220422</td>\n",
       "      <td>expt24</td>\n",
       "      <td>lib22</td>\n",
       "      <td>ADI-75850</td>\n",
       "      <td>123</td>\n",
       "      <td>abneg</td>\n",
       "      <td>escape</td>\n",
       "      <td>expt24-ADI-75850-123-abneg</td>\n",
       "      <td>ab_selection</td>\n",
       "      <td>895171.0</td>\n",
       "      <td>0.223</td>\n",
       "      <td>expt24-ADI-75850-123-abneg_lib22</td>\n",
       "      <td>results/counts/expt24-ADI-75850-123-abneg_lib22_counts.csv</td>\n",
       "      <td>results/counts/expt24-ADI-75850-123-abneg_lib22_fates.csv</td>\n",
       "    </tr>\n",
       "    <tr>\n",
       "      <td>220422</td>\n",
       "      <td>expt24</td>\n",
       "      <td>lib23</td>\n",
       "      <td>ADI-75850</td>\n",
       "      <td>123</td>\n",
       "      <td>abneg</td>\n",
       "      <td>escape</td>\n",
       "      <td>expt24-ADI-75850-123-abneg</td>\n",
       "      <td>ab_selection</td>\n",
       "      <td>903517.0</td>\n",
       "      <td>0.228</td>\n",
       "      <td>expt24-ADI-75850-123-abneg_lib23</td>\n",
       "      <td>results/counts/expt24-ADI-75850-123-abneg_lib23_counts.csv</td>\n",
       "      <td>results/counts/expt24-ADI-75850-123-abneg_lib23_fates.csv</td>\n",
       "    </tr>\n",
       "  </tbody>\n",
       "</table>"
      ],
      "text/plain": [
       "<IPython.core.display.HTML object>"
      ]
     },
     "metadata": {},
     "output_type": "display_data"
    }
   ],
   "source": [
    "print(f\"Reading list of barcode runs from {config['barcode_runs']}\")\n",
    "\n",
    "barcode_runs = (pd.read_csv(config['barcode_runs'])\n",
    "                .assign(sample_lib=lambda x: x['sample'] + '_' + x['library'],\n",
    "                        counts_file=lambda x: config['counts_dir'] + '/' + x['sample_lib'] + '_counts.csv',\n",
    "                        fates_file=lambda x: config['counts_dir'] + '/' + x['sample_lib'] + '_fates.csv',\n",
    "                        )\n",
    "                .drop(columns='R1')  # don't need this column, and very large\n",
    "                )\n",
    "\n",
    "assert all(map(os.path.isfile, barcode_runs['counts_file'])), 'missing some counts files'\n",
    "assert all(map(os.path.isfile, barcode_runs['fates_file'])), 'missing some fates files'\n",
    "\n",
    "display(HTML(barcode_runs.to_html(index=False)))"
   ]
  },
  {
   "cell_type": "markdown",
   "metadata": {},
   "source": [
    "Confirm sample / library combinations unique:"
   ]
  },
  {
   "cell_type": "code",
   "execution_count": 9,
   "metadata": {
    "execution": {
     "iopub.execute_input": "2022-06-10T22:44:42.506007Z",
     "iopub.status.busy": "2022-06-10T22:44:42.505027Z",
     "iopub.status.idle": "2022-06-10T22:44:42.511008Z",
     "shell.execute_reply": "2022-06-10T22:44:42.510493Z"
    }
   },
   "outputs": [],
   "source": [
    "assert len(barcode_runs) == len(barcode_runs.groupby(['sample', 'library']))"
   ]
  },
  {
   "cell_type": "markdown",
   "metadata": {},
   "source": [
    "Make sure the the libraries for which we have barcode runs are all in our variant table:"
   ]
  },
  {
   "cell_type": "code",
   "execution_count": 10,
   "metadata": {
    "execution": {
     "iopub.execute_input": "2022-06-10T22:44:42.515056Z",
     "iopub.status.busy": "2022-06-10T22:44:42.514095Z",
     "iopub.status.idle": "2022-06-10T22:44:42.518427Z",
     "shell.execute_reply": "2022-06-10T22:44:42.517937Z"
    }
   },
   "outputs": [],
   "source": [
    "unknown_libs = set(barcode_runs['library']) - set(variants.libraries)\n",
    "if unknown_libs:\n",
    "    raise ValueError(f\"Libraries with barcode runs not in variant table: {unknown_libs}\")"
   ]
  },
  {
   "cell_type": "markdown",
   "metadata": {},
   "source": [
    "Now concatenate the barcode counts and fates for each sample:"
   ]
  },
  {
   "cell_type": "code",
   "execution_count": 11,
   "metadata": {
    "execution": {
     "iopub.execute_input": "2022-06-10T22:44:42.522297Z",
     "iopub.status.busy": "2022-06-10T22:44:42.521360Z",
     "iopub.status.idle": "2022-06-10T22:44:44.690626Z",
     "shell.execute_reply": "2022-06-10T22:44:44.690028Z"
    }
   },
   "outputs": [
    {
     "name": "stdout",
     "output_type": "stream",
     "text": [
      "First few lines of counts data frame:\n"
     ]
    },
    {
     "data": {
      "text/html": [
       "<table border=\"1\" class=\"dataframe\">\n",
       "  <thead>\n",
       "    <tr style=\"text-align: right;\">\n",
       "      <th>barcode</th>\n",
       "      <th>count</th>\n",
       "      <th>library</th>\n",
       "      <th>sample</th>\n",
       "    </tr>\n",
       "  </thead>\n",
       "  <tbody>\n",
       "    <tr>\n",
       "      <td>AGTACCGATAGTGAAC</td>\n",
       "      <td>6903</td>\n",
       "      <td>lib22</td>\n",
       "      <td>exptREF-none-0-ref</td>\n",
       "    </tr>\n",
       "    <tr>\n",
       "      <td>GTATACTTTCATCTGA</td>\n",
       "      <td>5314</td>\n",
       "      <td>lib22</td>\n",
       "      <td>exptREF-none-0-ref</td>\n",
       "    </tr>\n",
       "    <tr>\n",
       "      <td>CTTCAGAAGGCCGTAA</td>\n",
       "      <td>5171</td>\n",
       "      <td>lib22</td>\n",
       "      <td>exptREF-none-0-ref</td>\n",
       "    </tr>\n",
       "    <tr>\n",
       "      <td>TCACCGGTAAGCAAAT</td>\n",
       "      <td>5128</td>\n",
       "      <td>lib22</td>\n",
       "      <td>exptREF-none-0-ref</td>\n",
       "    </tr>\n",
       "    <tr>\n",
       "      <td>AGCTAGGAACGATACA</td>\n",
       "      <td>4845</td>\n",
       "      <td>lib22</td>\n",
       "      <td>exptREF-none-0-ref</td>\n",
       "    </tr>\n",
       "  </tbody>\n",
       "</table>"
      ],
      "text/plain": [
       "<IPython.core.display.HTML object>"
      ]
     },
     "metadata": {},
     "output_type": "display_data"
    },
    {
     "name": "stdout",
     "output_type": "stream",
     "text": [
      "First few lines of fates data frame:\n"
     ]
    },
    {
     "data": {
      "text/html": [
       "<table border=\"1\" class=\"dataframe\">\n",
       "  <thead>\n",
       "    <tr style=\"text-align: right;\">\n",
       "      <th>fate</th>\n",
       "      <th>count</th>\n",
       "      <th>library</th>\n",
       "      <th>sample</th>\n",
       "    </tr>\n",
       "  </thead>\n",
       "  <tbody>\n",
       "    <tr>\n",
       "      <td>valid barcode</td>\n",
       "      <td>35382048</td>\n",
       "      <td>lib22</td>\n",
       "      <td>exptREF-none-0-ref</td>\n",
       "    </tr>\n",
       "    <tr>\n",
       "      <td>low quality barcode</td>\n",
       "      <td>5826601</td>\n",
       "      <td>lib22</td>\n",
       "      <td>exptREF-none-0-ref</td>\n",
       "    </tr>\n",
       "    <tr>\n",
       "      <td>invalid barcode</td>\n",
       "      <td>4748571</td>\n",
       "      <td>lib22</td>\n",
       "      <td>exptREF-none-0-ref</td>\n",
       "    </tr>\n",
       "    <tr>\n",
       "      <td>unparseable barcode</td>\n",
       "      <td>657159</td>\n",
       "      <td>lib22</td>\n",
       "      <td>exptREF-none-0-ref</td>\n",
       "    </tr>\n",
       "    <tr>\n",
       "      <td>failed chastity filter</td>\n",
       "      <td>0</td>\n",
       "      <td>lib22</td>\n",
       "      <td>exptREF-none-0-ref</td>\n",
       "    </tr>\n",
       "  </tbody>\n",
       "</table>"
      ],
      "text/plain": [
       "<IPython.core.display.HTML object>"
      ]
     },
     "metadata": {},
     "output_type": "display_data"
    }
   ],
   "source": [
    "counts = pd.concat([pd.read_csv(f) for f in barcode_runs['counts_file']],\n",
    "                   sort=False,\n",
    "                   ignore_index=True)\n",
    "\n",
    "print('First few lines of counts data frame:')\n",
    "display(HTML(counts.head().to_html(index=False)))\n",
    "\n",
    "fates = pd.concat([pd.read_csv(f) for f in barcode_runs['fates_file']],\n",
    "                  sort=False,\n",
    "                  ignore_index=True)\n",
    "\n",
    "print('First few lines of fates data frame:')\n",
    "display(HTML(fates.head().to_html(index=False)))"
   ]
  },
  {
   "cell_type": "markdown",
   "metadata": {},
   "source": [
    "## Examine fates of parsed barcodes\n",
    "First, we'll analyze the \"fates\" of the parsed barcodes.\n",
    "These fates represent what happened to each Illumina read we parsed:\n",
    " - Did the barcode read fail the Illumina chastity filter?\n",
    " - Was the barcode *unparseable* (i.e., the read didn't appear to be a valid barcode based on flanking regions)?\n",
    " - Was the barcode sequence too *low quality* based on the Illumina quality scores?\n",
    " - Was the barcode parseable but *invalid* (i.e., not in our list of variant-associated barcodes in the codon variant table)?\n",
    " - Was the barcode *valid*, and so will be added to variant counts.\n",
    " \n",
    "First, we just write a CSV file with all the barcode fates:"
   ]
  },
  {
   "cell_type": "code",
   "execution_count": 12,
   "metadata": {
    "execution": {
     "iopub.execute_input": "2022-06-10T22:44:44.694660Z",
     "iopub.status.busy": "2022-06-10T22:44:44.693679Z",
     "iopub.status.idle": "2022-06-10T22:44:44.726314Z",
     "shell.execute_reply": "2022-06-10T22:44:44.725492Z"
    }
   },
   "outputs": [
    {
     "name": "stdout",
     "output_type": "stream",
     "text": [
      "Writing barcode fates to results/counts/barcode_fates.csv\n"
     ]
    }
   ],
   "source": [
    "fatesfile = os.path.join(config['counts_dir'], 'barcode_fates.csv')\n",
    "print(f\"Writing barcode fates to {fatesfile}\")\n",
    "fates.to_csv(fatesfile, index=False)"
   ]
  },
  {
   "cell_type": "markdown",
   "metadata": {},
   "source": [
    "Next, we tabulate the barcode fates in wide format:"
   ]
  },
  {
   "cell_type": "code",
   "execution_count": 13,
   "metadata": {
    "execution": {
     "iopub.execute_input": "2022-06-10T22:44:44.732728Z",
     "iopub.status.busy": "2022-06-10T22:44:44.731116Z",
     "iopub.status.idle": "2022-06-10T22:44:44.748838Z",
     "shell.execute_reply": "2022-06-10T22:44:44.748330Z"
    }
   },
   "outputs": [
    {
     "data": {
      "text/html": [
       "<table border=\"1\" class=\"dataframe\">\n",
       "  <thead>\n",
       "    <tr style=\"text-align: right;\">\n",
       "      <th></th>\n",
       "      <th>fate</th>\n",
       "      <th>failed chastity filter</th>\n",
       "      <th>invalid barcode</th>\n",
       "      <th>low quality barcode</th>\n",
       "      <th>unparseable barcode</th>\n",
       "      <th>valid barcode</th>\n",
       "    </tr>\n",
       "    <tr>\n",
       "      <th>sample</th>\n",
       "      <th>library</th>\n",
       "      <th></th>\n",
       "      <th></th>\n",
       "      <th></th>\n",
       "      <th></th>\n",
       "      <th></th>\n",
       "    </tr>\n",
       "  </thead>\n",
       "  <tbody>\n",
       "    <tr>\n",
       "      <th rowspan=\"2\" valign=\"top\">expt19-ADI-75733-249-abneg</th>\n",
       "      <th>lib22</th>\n",
       "      <td>0.0e+00</td>\n",
       "      <td>4.4e+05</td>\n",
       "      <td>5.5e+05</td>\n",
       "      <td>5.9e+04</td>\n",
       "      <td>3.5e+06</td>\n",
       "    </tr>\n",
       "    <tr>\n",
       "      <th>lib23</th>\n",
       "      <td>0.0e+00</td>\n",
       "      <td>4.2e+05</td>\n",
       "      <td>5.6e+05</td>\n",
       "      <td>7.1e+04</td>\n",
       "      <td>3.5e+06</td>\n",
       "    </tr>\n",
       "    <tr>\n",
       "      <th rowspan=\"2\" valign=\"top\">expt20-ADI-75732-135-abneg</th>\n",
       "      <th>lib22</th>\n",
       "      <td>0.0e+00</td>\n",
       "      <td>5.0e+05</td>\n",
       "      <td>6.1e+05</td>\n",
       "      <td>6.6e+04</td>\n",
       "      <td>3.8e+06</td>\n",
       "    </tr>\n",
       "    <tr>\n",
       "      <th>lib23</th>\n",
       "      <td>0.0e+00</td>\n",
       "      <td>4.4e+05</td>\n",
       "      <td>5.9e+05</td>\n",
       "      <td>7.2e+04</td>\n",
       "      <td>3.6e+06</td>\n",
       "    </tr>\n",
       "    <tr>\n",
       "      <th rowspan=\"2\" valign=\"top\">expt21-ADI-75739-94-abneg</th>\n",
       "      <th>lib22</th>\n",
       "      <td>0.0e+00</td>\n",
       "      <td>2.6e+05</td>\n",
       "      <td>3.0e+05</td>\n",
       "      <td>3.2e+04</td>\n",
       "      <td>1.8e+06</td>\n",
       "    </tr>\n",
       "    <tr>\n",
       "      <th>lib23</th>\n",
       "      <td>0.0e+00</td>\n",
       "      <td>2.2e+05</td>\n",
       "      <td>2.9e+05</td>\n",
       "      <td>3.5e+04</td>\n",
       "      <td>1.8e+06</td>\n",
       "    </tr>\n",
       "    <tr>\n",
       "      <th rowspan=\"2\" valign=\"top\">expt22-ADI-75807-139-abneg</th>\n",
       "      <th>lib22</th>\n",
       "      <td>0.0e+00</td>\n",
       "      <td>3.2e+05</td>\n",
       "      <td>3.8e+05</td>\n",
       "      <td>4.0e+04</td>\n",
       "      <td>2.4e+06</td>\n",
       "    </tr>\n",
       "    <tr>\n",
       "      <th>lib23</th>\n",
       "      <td>0.0e+00</td>\n",
       "      <td>2.9e+05</td>\n",
       "      <td>3.7e+05</td>\n",
       "      <td>4.5e+04</td>\n",
       "      <td>2.4e+06</td>\n",
       "    </tr>\n",
       "    <tr>\n",
       "      <th rowspan=\"2\" valign=\"top\">expt23-ADI-75586-64-abneg</th>\n",
       "      <th>lib22</th>\n",
       "      <td>0.0e+00</td>\n",
       "      <td>3.1e+05</td>\n",
       "      <td>3.8e+05</td>\n",
       "      <td>4.3e+04</td>\n",
       "      <td>2.4e+06</td>\n",
       "    </tr>\n",
       "    <tr>\n",
       "      <th>lib23</th>\n",
       "      <td>0.0e+00</td>\n",
       "      <td>3.0e+05</td>\n",
       "      <td>3.9e+05</td>\n",
       "      <td>4.7e+04</td>\n",
       "      <td>2.5e+06</td>\n",
       "    </tr>\n",
       "    <tr>\n",
       "      <th rowspan=\"2\" valign=\"top\">expt24-ADI-75850-123-abneg</th>\n",
       "      <th>lib22</th>\n",
       "      <td>0.0e+00</td>\n",
       "      <td>3.9e+05</td>\n",
       "      <td>4.7e+05</td>\n",
       "      <td>5.1e+04</td>\n",
       "      <td>3.0e+06</td>\n",
       "    </tr>\n",
       "    <tr>\n",
       "      <th>lib23</th>\n",
       "      <td>0.0e+00</td>\n",
       "      <td>3.7e+05</td>\n",
       "      <td>4.8e+05</td>\n",
       "      <td>5.8e+04</td>\n",
       "      <td>3.1e+06</td>\n",
       "    </tr>\n",
       "    <tr>\n",
       "      <th rowspan=\"2\" valign=\"top\">exptREF-none-0-ref</th>\n",
       "      <th>lib22</th>\n",
       "      <td>0.0e+00</td>\n",
       "      <td>4.7e+06</td>\n",
       "      <td>5.8e+06</td>\n",
       "      <td>6.6e+05</td>\n",
       "      <td>3.5e+07</td>\n",
       "    </tr>\n",
       "    <tr>\n",
       "      <th>lib23</th>\n",
       "      <td>0.0e+00</td>\n",
       "      <td>4.7e+06</td>\n",
       "      <td>6.0e+06</td>\n",
       "      <td>7.4e+05</td>\n",
       "      <td>3.8e+07</td>\n",
       "    </tr>\n",
       "  </tbody>\n",
       "</table>"
      ],
      "text/plain": [
       "<IPython.core.display.HTML object>"
      ]
     },
     "metadata": {},
     "output_type": "display_data"
    }
   ],
   "source": [
    "display(HTML(fates\n",
    "             .pivot_table(columns='fate',\n",
    "                          values='count',\n",
    "                          index=['sample', 'library'])\n",
    "             .applymap('{:.1e}'.format)  # scientific notation\n",
    "             .to_html()\n",
    "             ))"
   ]
  },
  {
   "cell_type": "markdown",
   "metadata": {},
   "source": [
    "Now we plot the barcode-read fates for each library / sample, showing the bars for valid barcodes in orange and the others in gray.\n",
    "We see that the largest fraction of barcode reads correspond to valid barcodes, and most of the others are invalid barcodes (probably because the map to variants that aren't present in our variant table since we didn't associate all variants with barcodes). The exception to this is lib2 Titeseq_03_bin3; the PCR for this sample in the original sequencing run failed, so we followed it up with a single MiSeq lane. We did not filter out the PhiX reads from this data before parsing, so these PhiX reads will deflate the fraction of valid barcode reads as expected, but does not indicate any problems."
   ]
  },
  {
   "cell_type": "code",
   "execution_count": 14,
   "metadata": {
    "execution": {
     "iopub.execute_input": "2022-06-10T22:44:44.752837Z",
     "iopub.status.busy": "2022-06-10T22:44:44.751876Z",
     "iopub.status.idle": "2022-06-10T22:44:47.481583Z",
     "shell.execute_reply": "2022-06-10T22:44:47.481124Z"
    }
   },
   "outputs": [
    {
     "data": {
      "image/png": "[encoded data removed]",
      "text/plain": [
       "<Figure size 432x288 with 14 Axes>"
      ]
     },
     "metadata": {
      "needs_background": "light"
     },
     "output_type": "display_data"
    }
   ],
   "source": [
    "ncol = 4\n",
    "nfacets = len(fates.groupby(['sample', 'library']))\n",
    "\n",
    "barcode_fate_plot = (\n",
    "    ggplot(\n",
    "        fates\n",
    "        .assign(sample=lambda x: pd.Categorical(x['sample'],\n",
    "                                                x['sample'].unique(),\n",
    "                                                ordered=True),\n",
    "                fate=lambda x: pd.Categorical(x['fate'],\n",
    "                                              x['fate'].unique(),\n",
    "                                              ordered=True),\n",
    "                is_valid=lambda x: x['fate'] == 'valid barcode'\n",
    "                ), \n",
    "        aes('fate', 'count', fill='is_valid')) +\n",
    "    geom_bar(stat='identity') +\n",
    "    facet_wrap('~ sample + library', ncol=ncol) +\n",
    "    scale_fill_manual(CBPALETTE, guide=False) +\n",
    "    theme(figure_size=(3.25 * ncol, 2 * math.ceil(nfacets / ncol)),\n",
    "          axis_text_x=element_text(angle=90),\n",
    "          panel_grid_major_x=element_blank()\n",
    "          ) +\n",
    "    scale_y_continuous(labels=dms_variants.utils.latex_sci_not,\n",
    "                       name='number of reads')\n",
    "    )\n",
    "\n",
    "_ = barcode_fate_plot.draw()"
   ]
  },
  {
   "cell_type": "markdown",
   "metadata": {},
   "source": [
    "## Add barcode counts to variant table\n",
    "Now we use the [CodonVariantTable.add_sample_counts_df](https://jbloomlab.github.io/dms_variants/dms_variants.codonvarianttable.html#dms_variants.codonvarianttable.CodonVariantTable.add_sample_counts_df) method to add the barcode counts to the variant table:"
   ]
  },
  {
   "cell_type": "code",
   "execution_count": 15,
   "metadata": {
    "execution": {
     "iopub.execute_input": "2022-06-10T22:44:47.485207Z",
     "iopub.status.busy": "2022-06-10T22:44:47.484358Z",
     "iopub.status.idle": "2022-06-10T22:44:52.948481Z",
     "shell.execute_reply": "2022-06-10T22:44:52.947713Z"
    }
   },
   "outputs": [],
   "source": [
    "variants.add_sample_counts_df(counts)"
   ]
  },
  {
   "cell_type": "markdown",
   "metadata": {},
   "source": [
    "The variant table now has a `variant_count_df` attribute that gives a data frame of all the variant counts.\n",
    "Here are the first few lines:"
   ]
  },
  {
   "cell_type": "code",
   "execution_count": 16,
   "metadata": {
    "execution": {
     "iopub.execute_input": "2022-06-10T22:44:52.952654Z",
     "iopub.status.busy": "2022-06-10T22:44:52.951779Z",
     "iopub.status.idle": "2022-06-10T22:44:52.962426Z",
     "shell.execute_reply": "2022-06-10T22:44:52.961938Z"
    }
   },
   "outputs": [
    {
     "data": {
      "text/html": [
       "<table border=\"1\" class=\"dataframe\">\n",
       "  <thead>\n",
       "    <tr style=\"text-align: right;\">\n",
       "      <th>target</th>\n",
       "      <th>library</th>\n",
       "      <th>sample</th>\n",
       "      <th>barcode</th>\n",
       "      <th>count</th>\n",
       "      <th>variant_call_support</th>\n",
       "      <th>codon_substitutions</th>\n",
       "      <th>aa_substitutions</th>\n",
       "      <th>n_codon_substitutions</th>\n",
       "      <th>n_aa_substitutions</th>\n",
       "    </tr>\n",
       "  </thead>\n",
       "  <tbody>\n",
       "    <tr>\n",
       "      <td>Omicron_BA1</td>\n",
       "      <td>lib22</td>\n",
       "      <td>exptREF-none-0-ref</td>\n",
       "      <td>AGTACCGATAGTGAAC</td>\n",
       "      <td>6903</td>\n",
       "      <td>122</td>\n",
       "      <td>AAA128GGT</td>\n",
       "      <td>K128G</td>\n",
       "      <td>1</td>\n",
       "      <td>1</td>\n",
       "    </tr>\n",
       "    <tr>\n",
       "      <td>Omicron_BA1</td>\n",
       "      <td>lib22</td>\n",
       "      <td>exptREF-none-0-ref</td>\n",
       "      <td>GTATACTTTCATCTGA</td>\n",
       "      <td>5314</td>\n",
       "      <td>107</td>\n",
       "      <td>AAC107CAA</td>\n",
       "      <td>N107Q</td>\n",
       "      <td>1</td>\n",
       "      <td>1</td>\n",
       "    </tr>\n",
       "    <tr>\n",
       "      <td>Omicron_BA1</td>\n",
       "      <td>lib22</td>\n",
       "      <td>exptREF-none-0-ref</td>\n",
       "      <td>CTTCAGAAGGCCGTAA</td>\n",
       "      <td>5171</td>\n",
       "      <td>93</td>\n",
       "      <td>GAC75TGT</td>\n",
       "      <td>D75C</td>\n",
       "      <td>1</td>\n",
       "      <td>1</td>\n",
       "    </tr>\n",
       "    <tr>\n",
       "      <td>Omicron_BA1</td>\n",
       "      <td>lib22</td>\n",
       "      <td>exptREF-none-0-ref</td>\n",
       "      <td>TCACCGGTAAGCAAAT</td>\n",
       "      <td>5128</td>\n",
       "      <td>106</td>\n",
       "      <td>GTT180CAA</td>\n",
       "      <td>V180Q</td>\n",
       "      <td>1</td>\n",
       "      <td>1</td>\n",
       "    </tr>\n",
       "    <tr>\n",
       "      <td>Omicron_BA1</td>\n",
       "      <td>lib22</td>\n",
       "      <td>exptREF-none-0-ref</td>\n",
       "      <td>AGCTAGGAACGATACA</td>\n",
       "      <td>4845</td>\n",
       "      <td>90</td>\n",
       "      <td>TTA60CAA</td>\n",
       "      <td>L60Q</td>\n",
       "      <td>1</td>\n",
       "      <td>1</td>\n",
       "    </tr>\n",
       "  </tbody>\n",
       "</table>"
      ],
      "text/plain": [
       "<IPython.core.display.HTML object>"
      ]
     },
     "metadata": {},
     "output_type": "display_data"
    }
   ],
   "source": [
    "display(HTML(variants.variant_count_df.head().to_html(index=False)))"
   ]
  },
  {
   "cell_type": "markdown",
   "metadata": {},
   "source": [
    "Write the variant counts data frame to a CSV file.\n",
    "It can then be used to re-initialize a [CodonVariantTable](https://jbloomlab.github.io/dms_variants/dms_variants.codonvarianttable.html#dms_variants.codonvarianttable.CodonVariantTable) via its [from_variant_count_df](https://jbloomlab.github.io/dms_variants/dms_variants.codonvarianttable.html#dms_variants.codonvarianttable.CodonVariantTable.from_variant_count_df) method:"
   ]
  },
  {
   "cell_type": "code",
   "execution_count": 17,
   "metadata": {
    "execution": {
     "iopub.execute_input": "2022-06-10T22:44:52.966370Z",
     "iopub.status.busy": "2022-06-10T22:44:52.965417Z",
     "iopub.status.idle": "2022-06-10T22:45:17.032135Z",
     "shell.execute_reply": "2022-06-10T22:45:17.030395Z"
    }
   },
   "outputs": [
    {
     "name": "stdout",
     "output_type": "stream",
     "text": [
      "Writing variant counts to results/counts/variant_counts.csv.gz\n"
     ]
    }
   ],
   "source": [
    "print(f\"Writing variant counts to {config['variant_counts']}\")\n",
    "variants.variant_count_df.to_csv(config['variant_counts'], index=False, compression='gzip')"
   ]
  },
  {
   "cell_type": "markdown",
   "metadata": {},
   "source": [
    "The [CodonVariantTable](https://jbloomlab.github.io/dms_variants/dms_variants.codonvarianttable.html#dms_variants.codonvarianttable.CodonVariantTable) has lots of nice functions that can be used to analyze the counts it contains.\n",
    "However, we do that in the next notebook so we don't have to re-run this entire (rather computationally intensive) notebook every time we want to analyze a new aspect of the counts."
   ]
  }
 ],
 "metadata": {
  "kernelspec": {
   "display_name": "Python 3 (ipykernel)",
   "language": "python",
   "name": "python3"
  },
  "language_info": {
   "codemirror_mode": {
    "name": "ipython",
    "version": 3
   },
   "file_extension": ".py",
   "mimetype": "text/x-python",
   "name": "python",
   "nbconvert_exporter": "python",
   "pygments_lexer": "ipython3",
   "version": "3.8.13"
  }
 },
 "nbformat": 4,
 "nbformat_minor": 4
}
